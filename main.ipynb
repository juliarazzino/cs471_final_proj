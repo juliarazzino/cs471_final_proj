{
 "cells": [
  {
   "cell_type": "markdown",
   "metadata": {},
   "source": [
    "CS471 Final Project"
   ]
  },
  {
   "cell_type": "code",
   "execution_count": 1,
   "metadata": {},
   "outputs": [
    {
     "name": "stdout",
     "output_type": "stream",
     "text": [
      "hello\n"
     ]
    }
   ],
   "source": [
    "print(\"hello\")\n",
    "import pandas as pd"
   ]
  },
  {
   "cell_type": "markdown",
   "metadata": {},
   "source": [
    "Read in the data, convert to csv"
   ]
  },
  {
   "cell_type": "code",
   "execution_count": 2,
   "metadata": {},
   "outputs": [],
   "source": [
    "def json_to_csv(json_filename, csv_filename=None):\n",
    "    try:\n",
    "        if csv_filename is None:\n",
    "            csv_filename = json_filename.replace('.json', '.csv')\n",
    "        \n",
    "        with open(json_filename, encoding='utf-8') as inputfile:\n",
    "            df = pd.read_json(inputfile)\n",
    "        \n",
    "        df.to_csv(csv_filename, encoding='utf-8', index=False)\n",
    "        \n",
    "        return f\"CSV file '{csv_filename}' created successfully.\"\n",
    "    \n",
    "    except FileNotFoundError:\n",
    "        return f\"Error: The file '{json_filename}' does not exist.\"\n",
    "    except ValueError as e:\n",
    "        return f\"Error: {e}. Ensure the JSON structure is valid for conversion.\"\n",
    "    except Exception as e:\n",
    "        return f\"An unexpected error occurred: {e}\"\n"
   ]
  },
  {
   "cell_type": "code",
   "execution_count": 5,
   "metadata": {},
   "outputs": [
    {
     "name": "stdout",
     "output_type": "stream",
     "text": [
      "CSV file 'data/Kovalsky_Streaming_History_Audio_2014-2020.csv' created successfully.\n"
     ]
    }
   ],
   "source": [
    "result = json_to_csv('data/Kovalsky_Streaming_History_Audio_2014-2020.json')\n",
    "print(result)"
   ]
  },
  {
   "cell_type": "markdown",
   "metadata": {},
   "source": [
    "Spotify Web API install and set up"
   ]
  },
  {
   "cell_type": "code",
   "execution_count": 6,
   "metadata": {},
   "outputs": [
    {
     "name": "stdout",
     "output_type": "stream",
     "text": [
      "Requirement already satisfied: pandas in c:\\users\\c25julia.razzino\\appdata\\local\\programs\\python\\python312\\lib\\site-packages (2.2.3)\n",
      "Requirement already satisfied: spotipy in c:\\users\\c25julia.razzino\\appdata\\local\\programs\\python\\python312\\lib\\site-packages (2.24.0)\n",
      "Requirement already satisfied: numpy>=1.26.0 in c:\\users\\c25julia.razzino\\appdata\\local\\programs\\python\\python312\\lib\\site-packages (from pandas) (2.1.2)\n",
      "Requirement already satisfied: python-dateutil>=2.8.2 in c:\\users\\c25julia.razzino\\appdata\\roaming\\python\\python312\\site-packages (from pandas) (2.9.0.post0)\n",
      "Requirement already satisfied: pytz>=2020.1 in c:\\users\\c25julia.razzino\\appdata\\local\\programs\\python\\python312\\lib\\site-packages (from pandas) (2024.2)\n",
      "Requirement already satisfied: tzdata>=2022.7 in c:\\users\\c25julia.razzino\\appdata\\local\\programs\\python\\python312\\lib\\site-packages (from pandas) (2024.2)\n",
      "Requirement already satisfied: redis>=3.5.3 in c:\\users\\c25julia.razzino\\appdata\\local\\programs\\python\\python312\\lib\\site-packages (from spotipy) (5.2.0)\n",
      "Requirement already satisfied: requests>=2.25.0 in c:\\users\\c25julia.razzino\\appdata\\local\\programs\\python\\python312\\lib\\site-packages (from spotipy) (2.32.3)\n",
      "Requirement already satisfied: urllib3>=1.26.0 in c:\\users\\c25julia.razzino\\appdata\\local\\programs\\python\\python312\\lib\\site-packages (from spotipy) (2.2.3)\n",
      "Requirement already satisfied: six>=1.5 in c:\\users\\c25julia.razzino\\appdata\\roaming\\python\\python312\\site-packages (from python-dateutil>=2.8.2->pandas) (1.16.0)\n",
      "Requirement already satisfied: charset-normalizer<4,>=2 in c:\\users\\c25julia.razzino\\appdata\\local\\programs\\python\\python312\\lib\\site-packages (from requests>=2.25.0->spotipy) (3.4.0)\n",
      "Requirement already satisfied: idna<4,>=2.5 in c:\\users\\c25julia.razzino\\appdata\\local\\programs\\python\\python312\\lib\\site-packages (from requests>=2.25.0->spotipy) (3.10)\n",
      "Requirement already satisfied: certifi>=2017.4.17 in c:\\users\\c25julia.razzino\\appdata\\local\\programs\\python\\python312\\lib\\site-packages (from requests>=2.25.0->spotipy) (2024.8.30)\n",
      "Note: you may need to restart the kernel to use updated packages.\n"
     ]
    },
    {
     "name": "stderr",
     "output_type": "stream",
     "text": [
      "\n",
      "[notice] A new release of pip is available: 24.2 -> 24.3.1\n",
      "[notice] To update, run: python.exe -m pip install --upgrade pip\n"
     ]
    }
   ],
   "source": [
    "pip install pandas spotipy"
   ]
  },
  {
   "cell_type": "code",
   "execution_count": 16,
   "metadata": {},
   "outputs": [],
   "source": [
    "import pandas as pd\n",
    "import spotipy\n",
    "from spotipy.oauth2 import SpotifyClientCredentials\n",
    "import time\n",
    "\n",
    "# Replace with your Spotify API credentials\n",
    "CLIENT_ID = 'ff359b48e7074fe09b99477eb78af081'         # Replace with your Client ID\n",
    "CLIENT_SECRET = 'b726f74b70a54c458a59839442f6a710' # Replace with your Client Secret\n",
    "\n",
    "# Authenticate with Spotify\n",
    "client_credentials_manager = SpotifyClientCredentials(\n",
    "    client_id=CLIENT_ID,\n",
    "    client_secret=CLIENT_SECRET\n",
    ")\n",
    "sp = spotipy.Spotify(client_credentials_manager=client_credentials_manager)\n"
   ]
  },
  {
   "cell_type": "code",
   "execution_count": 45,
   "metadata": {},
   "outputs": [],
   "source": [
    "# Replace with your JSON file path\n",
    "json_filename = '.\\\\data\\\\Kovalsky_Streaming_History_Audio_2014-2020.json'\n",
    "\n",
    "# Load the JSON data into a DataFrame\n",
    "df = pd.read_json(json_filename)\n"
   ]
  },
  {
   "cell_type": "code",
   "execution_count": 46,
   "metadata": {},
   "outputs": [
    {
     "name": "stdout",
     "output_type": "stream",
     "text": [
      "Total unique tracks: 2342\n"
     ]
    }
   ],
   "source": [
    "# Ensure the column name matches your data structure\n",
    "track_uri_column = 'spotify_track_uri'  # Adjust if your column name is different\n",
    "\n",
    "# Drop rows without a track URI\n",
    "df = df.dropna(subset=[track_uri_column])\n",
    "\n",
    "# Extract unique track URIs\n",
    "unique_track_uris = df[track_uri_column].unique().tolist()\n",
    "\n",
    "print(f\"Total unique tracks: {len(unique_track_uris)}\")\n"
   ]
  },
  {
   "cell_type": "code",
   "execution_count": 47,
   "metadata": {},
   "outputs": [],
   "source": [
    "# Dictionaries to hold fetched data\n",
    "track_info_dict = {}\n",
    "audio_features_dict = {}\n",
    "artist_genres_dict = {}\n"
   ]
  },
  {
   "cell_type": "code",
   "execution_count": 48,
   "metadata": {},
   "outputs": [],
   "source": [
    "# Spotify API allows fetching up to 50 tracks per request\n",
    "BATCH_SIZE = 50\n",
    "\n",
    "for i in range(0, len(unique_track_uris), BATCH_SIZE):\n",
    "    batch_uris = unique_track_uris[i:i+BATCH_SIZE]\n",
    "    \n",
    "    # Fetch track details\n",
    "    try:\n",
    "        tracks = sp.tracks(batch_uris)['tracks']\n",
    "        for track in tracks:\n",
    "            if track:  # Check if track is not None\n",
    "                track_id = track['uri']\n",
    "                track_info_dict[track_id] = {\n",
    "                    'track_name': track['name'],\n",
    "                    'album_name': track['album']['name'],\n",
    "                    'album_release_date': track['album']['release_date'],\n",
    "                    'track_popularity': track['popularity'],\n",
    "                    'duration_ms': track['duration_ms'],\n",
    "                    'explicit': track['explicit'],\n",
    "                    'artist_ids': [artist['id'] for artist in track['artists']],\n",
    "                    'artist_names': [artist['name'] for artist in track['artists']],\n",
    "                }\n",
    "    except Exception as e:\n",
    "        print(f\"Error fetching track details for batch starting at index {i}: {e}\")\n",
    "    \n",
    "    # Fetch audio features\n",
    "    try:\n",
    "        features = sp.audio_features(batch_uris)\n",
    "        for feature in features:\n",
    "            if feature:  # Check if feature is not None\n",
    "                track_id = feature['uri']\n",
    "                audio_features_dict[track_id] = feature\n",
    "    except Exception as e:\n",
    "        print(f\"Error fetching audio features for batch starting at index {i}: {e}\")\n",
    "    \n",
    "    time.sleep(0.1)  # Adjust sleep time as necessary\n"
   ]
  },
  {
   "cell_type": "code",
   "execution_count": 49,
   "metadata": {},
   "outputs": [
    {
     "name": "stdout",
     "output_type": "stream",
     "text": [
      "Total unique artists: 1469\n"
     ]
    }
   ],
   "source": [
    "# Collect all unique artist IDs\n",
    "all_artist_ids = set()\n",
    "for track_data in track_info_dict.values():\n",
    "    all_artist_ids.update(track_data['artist_ids'])\n",
    "\n",
    "print(f\"Total unique artists: {len(all_artist_ids)}\")\n",
    "\n",
    "# Fetch artist genres in batches\n",
    "artist_ids_list = list(all_artist_ids)\n",
    "for i in range(0, len(artist_ids_list), BATCH_SIZE):\n",
    "    batch_artist_ids = artist_ids_list[i:i+BATCH_SIZE]\n",
    "    try:\n",
    "        artists = sp.artists(batch_artist_ids)['artists']\n",
    "        for artist in artists:\n",
    "            if artist:  # Check if artist is not None\n",
    "                artist_id = artist['id']\n",
    "                artist_genres_dict[artist_id] = artist['genres']\n",
    "    except Exception as e:\n",
    "        print(f\"Error fetching artist genres for batch starting at index {i}: {e}\")\n",
    "    \n",
    "    time.sleep(0.1)  # Adjust sleep time as necessary\n"
   ]
  },
  {
   "cell_type": "code",
   "execution_count": 50,
   "metadata": {},
   "outputs": [],
   "source": [
    "# Convert track info dict to DataFrame\n",
    "track_info_df = pd.DataFrame.from_dict(track_info_dict, orient='index')\n",
    "\n",
    "# Convert audio features dict to DataFrame\n",
    "audio_features_df = pd.DataFrame.from_dict(audio_features_dict, orient='index')\n",
    "\n",
    "# Reset index to have 'spotify_track_uri' as a column\n",
    "track_info_df = track_info_df.reset_index().rename(columns={'index': 'spotify_track_uri'})\n",
    "audio_features_df = audio_features_df.reset_index().rename(columns={'index': 'spotify_track_uri'})\n"
   ]
  },
  {
   "cell_type": "code",
   "execution_count": 51,
   "metadata": {},
   "outputs": [
    {
     "name": "stdout",
     "output_type": "stream",
     "text": [
      "                         spotify_track_uri  \\\n",
      "0     spotify:track:2Aa94myC4778D729OI3xtq   \n",
      "1     spotify:track:34gCuhDGsG4bRPIf9bb02f   \n",
      "2     spotify:track:5Erjuic0CApoiDsFxiElKT   \n",
      "3     spotify:track:357p2KRTBXeGGw6YfUI1nH   \n",
      "4     spotify:track:6wJwkMo278iWVlWl1XQ4WA   \n",
      "...                                    ...   \n",
      "2337  spotify:track:0F2LqbCrPxdwtBXTXjjbtZ   \n",
      "2338  spotify:track:5BkGp7FLUUpKgWl29jBK0J   \n",
      "2339  spotify:track:3i9UVldZOE0aD0JnyfAZZ0   \n",
      "2340  spotify:track:2msvOEbkK50foYf9BMXr2X   \n",
      "2341  spotify:track:1dGr1c8CrMLDpV6mPbImSI   \n",
      "\n",
      "                                  track_name  \\\n",
      "0     One Direction - Today's Top Hits Intro   \n",
      "1                          Thinking out Loud   \n",
      "2                                Bed Of Lies   \n",
      "3                             Lips Are Movin   \n",
      "4              The Heart Wants What It Wants   \n",
      "...                                      ...   \n",
      "2337                Classy Girls (B Version)   \n",
      "2338                                  Gloria   \n",
      "2339      Lover (Remix) [feat. Shawn Mendes]   \n",
      "2340               Lover - First Dance Remix   \n",
      "2341                                   Lover   \n",
      "\n",
      "                              album_name album_release_date  track_popularity  \\\n",
      "0        One Direction - Playlist Intros         2014-10-16                 0   \n",
      "1                     x (Deluxe Edition)         2014-06-21                80   \n",
      "2                            Bed Of Lies         2014-11-16                 0   \n",
      "3                         Lips Are Movin         2014-12-01                 0   \n",
      "4          The Heart Wants What It Wants         2014-01-01                68   \n",
      "...                                  ...                ...               ...   \n",
      "2337            Classy Girls (B Version)         2020-04-03                 1   \n",
      "2338                                 III         2019-09-13                24   \n",
      "2339  Lover (Remix) [feat. Shawn Mendes]         2019-11-13                65   \n",
      "2340           Lover (First Dance Remix)         2019-11-26                51   \n",
      "2341                               Lover         2019-08-23                84   \n",
      "\n",
      "      duration_ms  explicit                                        artist_ids  \\\n",
      "0            6479     False                          [0LyfQWJT6nXafLPZqxe9Of]   \n",
      "1          281560     False                          [6eUKZXaKkcviH0Ku9w2n3V]   \n",
      "2          270440     False  [0hCNtLu0JehylgoiP8L4Gh, 4utLUGcTvOJFr6aqIJtYWV]   \n",
      "3          182666     False                          [6JL8zeS1NmiOftqZTRgdTz]   \n",
      "4          227373     False                          [0C8ZW7ezQVs4URX5aX7Kqx]   \n",
      "...           ...       ...                                               ...   \n",
      "2337       165877     False                          [16oZKvXb6WkQlVAjwo2Wbg]   \n",
      "2338       216120     False                          [16oZKvXb6WkQlVAjwo2Wbg]   \n",
      "2339       221306     False  [06HL4z0CvFAxyc27GXpf02, 7n2wHs1TKAczGzO7Dd2rGr]   \n",
      "2340       233466     False                          [06HL4z0CvFAxyc27GXpf02]   \n",
      "2341       221306     False                          [06HL4z0CvFAxyc27GXpf02]   \n",
      "\n",
      "                      artist_names  \n",
      "0                [Various Artists]  \n",
      "1                     [Ed Sheeran]  \n",
      "2       [Nicki Minaj, Skylar Grey]  \n",
      "3                 [Meghan Trainor]  \n",
      "4                   [Selena Gomez]  \n",
      "...                            ...  \n",
      "2337               [The Lumineers]  \n",
      "2338               [The Lumineers]  \n",
      "2339  [Taylor Swift, Shawn Mendes]  \n",
      "2340                [Taylor Swift]  \n",
      "2341                [Taylor Swift]  \n",
      "\n",
      "[2342 rows x 9 columns]\n"
     ]
    }
   ],
   "source": [
    "print(track_info_df)"
   ]
  },
  {
   "cell_type": "code",
   "execution_count": 52,
   "metadata": {},
   "outputs": [],
   "source": [
    "# Merge track info and audio features on 'spotify_track_uri'\n",
    "track_data_df = pd.merge(track_info_df, audio_features_df, on='spotify_track_uri', how='left')\n"
   ]
  },
  {
   "cell_type": "code",
   "execution_count": 53,
   "metadata": {},
   "outputs": [
    {
     "name": "stdout",
     "output_type": "stream",
     "text": [
      "Index(['spotify_track_uri', 'track_name', 'album_name', 'album_release_date',\n",
      "       'track_popularity', 'duration_ms_x', 'explicit', 'artist_ids',\n",
      "       'artist_names', 'danceability', 'energy', 'key', 'loudness', 'mode',\n",
      "       'speechiness', 'acousticness', 'instrumentalness', 'liveness',\n",
      "       'valence', 'tempo', 'type', 'id', 'uri', 'track_href', 'analysis_url',\n",
      "       'duration_ms_y', 'time_signature'],\n",
      "      dtype='object')\n"
     ]
    }
   ],
   "source": [
    "print(track_data_df.columns)"
   ]
  },
  {
   "cell_type": "code",
   "execution_count": 54,
   "metadata": {},
   "outputs": [],
   "source": [
    "# Function to get genres for a list of artist IDs\n",
    "def get_genres_for_artists(artist_ids):\n",
    "    genres = set()\n",
    "    for artist_id in artist_ids:\n",
    "        artist_genres = artist_genres_dict.get(artist_id, [])\n",
    "        genres.update(artist_genres)\n",
    "    return list(genres)\n",
    "\n",
    "# Apply the function to each row\n",
    "track_data_df['artist_genres'] = track_data_df['artist_ids'].apply(get_genres_for_artists)\n"
   ]
  },
  {
   "cell_type": "code",
   "execution_count": 55,
   "metadata": {},
   "outputs": [],
   "source": [
    "# Flatten 'artist_ids' and 'artist_names' to strings\n",
    "track_data_df['artist_ids'] = track_data_df['artist_ids'].apply(lambda x: ', '.join(x))\n",
    "track_data_df['artist_names'] = track_data_df['artist_names'].apply(lambda x: ', '.join(x))\n",
    "track_data_df['artist_genres'] = track_data_df['artist_genres'].apply(lambda x: ', '.join(x))\n",
    "\n",
    "# Optionally, drop columns you don't need\n",
    "# track_data_df = track_data_df.drop(columns=['type', 'id', 'track_href', 'analysis_url', 'time_signature'])\n"
   ]
  },
  {
   "cell_type": "code",
   "execution_count": 56,
   "metadata": {},
   "outputs": [],
   "source": [
    "# Merge the enriched track data back into the original DataFrame\n",
    "df_enriched = pd.merge(df, track_data_df, on='spotify_track_uri', how='left')\n"
   ]
  },
  {
   "cell_type": "code",
   "execution_count": 57,
   "metadata": {},
   "outputs": [
    {
     "name": "stdout",
     "output_type": "stream",
     "text": [
      "                         ts         username  \\\n",
      "0      2014-11-24T18:34:22Z  penguinperson77   \n",
      "1      2014-11-24T18:34:28Z  penguinperson77   \n",
      "2      2014-11-24T18:39:00Z  penguinperson77   \n",
      "3      2014-11-24T18:39:08Z  penguinperson77   \n",
      "4      2014-11-24T18:42:57Z  penguinperson77   \n",
      "...                     ...              ...   \n",
      "12511  2020-06-30T19:40:20Z  penguinperson77   \n",
      "12512  2020-06-30T19:41:02Z  penguinperson77   \n",
      "12513  2020-06-30T19:41:54Z  penguinperson77   \n",
      "12514  2020-06-30T19:42:46Z  penguinperson77   \n",
      "12515  2020-09-29T20:37:16Z  penguinperson77   \n",
      "\n",
      "                                 platform  ms_played conn_country  \\\n",
      "0           WebPlayer (websocket RFC6455)       6452           US   \n",
      "1           WebPlayer (websocket RFC6455)       5022           US   \n",
      "2           WebPlayer (websocket RFC6455)     270393           US   \n",
      "3           WebPlayer (websocket RFC6455)       7210           US   \n",
      "4           WebPlayer (websocket RFC6455)     227394           US   \n",
      "...                                   ...        ...          ...   \n",
      "12511  Windows 10 (10.0.18362; x64; AppX)     207120           US   \n",
      "12512  Windows 10 (10.0.18362; x64; AppX)      41350           US   \n",
      "12513  Windows 10 (10.0.18362; x64; AppX)      51730           US   \n",
      "12514  Windows 10 (10.0.18362; x64; AppX)      50840           US   \n",
      "12515  Windows 10 (10.0.18362; x64; AppX)      39790           US   \n",
      "\n",
      "      ip_addr_decrypted                               user_agent_decrypted  \\\n",
      "0         99.59.186.204  Mozilla%2f5.0%20(X11%3b%20CrOS%20armv7l%206158...   \n",
      "1         99.59.186.204  Mozilla%2f5.0%20(X11%3b%20CrOS%20armv7l%206158...   \n",
      "2         99.59.186.204  Mozilla%2f5.0%20(X11%3b%20CrOS%20armv7l%206158...   \n",
      "3         99.59.186.204  Mozilla%2f5.0%20(X11%3b%20CrOS%20armv7l%206158...   \n",
      "4         99.59.186.204  Mozilla%2f5.0%20(X11%3b%20CrOS%20armv7l%206158...   \n",
      "...                 ...                                                ...   \n",
      "12511     99.50.203.148                                            unknown   \n",
      "12512     99.50.203.148                                            unknown   \n",
      "12513     99.50.203.148                                            unknown   \n",
      "12514     99.50.203.148                                            unknown   \n",
      "12515    66.168.111.254                                            unknown   \n",
      "\n",
      "                   master_metadata_track_name  \\\n",
      "0      One Direction - Today's Top Hits Intro   \n",
      "1                           Thinking out Loud   \n",
      "2                                 Bed Of Lies   \n",
      "3                              Lips Are Movin   \n",
      "4               The Heart Wants What It Wants   \n",
      "...                                       ...   \n",
      "12511                      Sleep On The Floor   \n",
      "12512      Lover (Remix) [feat. Shawn Mendes]   \n",
      "12513               Lover - First Dance Remix   \n",
      "12514                                   Lover   \n",
      "12515      Lover (Remix) [feat. Shawn Mendes]   \n",
      "\n",
      "      master_metadata_album_artist_name    master_metadata_album_album_name  \\\n",
      "0                       Various Artists     One Direction - Playlist Intros   \n",
      "1                            Ed Sheeran                                   x   \n",
      "2                           Nicki Minaj                         Bed Of Lies   \n",
      "3                        Meghan Trainor                      Lips Are Movin   \n",
      "4                          Selena Gomez       The Heart Wants What It Wants   \n",
      "...                                 ...                                 ...   \n",
      "12511                     The Lumineers                           Cleopatra   \n",
      "12512                      Taylor Swift  Lover (Remix) [feat. Shawn Mendes]   \n",
      "12513                      Taylor Swift                               Lover   \n",
      "12514                      Taylor Swift                               Lover   \n",
      "12515                      Taylor Swift  Lover (Remix) [feat. Shawn Mendes]   \n",
      "\n",
      "       ... valence    tempo            type                      id  \\\n",
      "0      ...   0.000    0.000  audio_features  2Aa94myC4778D729OI3xtq   \n",
      "1      ...   0.591   78.998  audio_features  34gCuhDGsG4bRPIf9bb02f   \n",
      "2      ...   0.123  171.866  audio_features  5Erjuic0CApoiDsFxiElKT   \n",
      "3      ...   0.950  139.091  audio_features  357p2KRTBXeGGw6YfUI1nH   \n",
      "4      ...   0.621   83.066  audio_features  6wJwkMo278iWVlWl1XQ4WA   \n",
      "...    ...     ...      ...             ...                     ...   \n",
      "12511  ...   0.275  142.133  audio_features  5MMZJtHOiH1RmQSSe3DJdg   \n",
      "12512  ...   0.422  205.272  audio_features  3i9UVldZOE0aD0JnyfAZZ0   \n",
      "12513  ...   0.214   68.449  audio_features  2msvOEbkK50foYf9BMXr2X   \n",
      "12514  ...   0.453   68.534  audio_features  1dGr1c8CrMLDpV6mPbImSI   \n",
      "12515  ...   0.422  205.272  audio_features  3i9UVldZOE0aD0JnyfAZZ0   \n",
      "\n",
      "                                        uri  \\\n",
      "0      spotify:track:2Aa94myC4778D729OI3xtq   \n",
      "1      spotify:track:34gCuhDGsG4bRPIf9bb02f   \n",
      "2      spotify:track:5Erjuic0CApoiDsFxiElKT   \n",
      "3      spotify:track:357p2KRTBXeGGw6YfUI1nH   \n",
      "4      spotify:track:6wJwkMo278iWVlWl1XQ4WA   \n",
      "...                                     ...   \n",
      "12511  spotify:track:5MMZJtHOiH1RmQSSe3DJdg   \n",
      "12512  spotify:track:3i9UVldZOE0aD0JnyfAZZ0   \n",
      "12513  spotify:track:2msvOEbkK50foYf9BMXr2X   \n",
      "12514  spotify:track:1dGr1c8CrMLDpV6mPbImSI   \n",
      "12515  spotify:track:3i9UVldZOE0aD0JnyfAZZ0   \n",
      "\n",
      "                                              track_href  \\\n",
      "0      https://api.spotify.com/v1/tracks/2Aa94myC4778...   \n",
      "1      https://api.spotify.com/v1/tracks/34gCuhDGsG4b...   \n",
      "2      https://api.spotify.com/v1/tracks/5Erjuic0CApo...   \n",
      "3      https://api.spotify.com/v1/tracks/357p2KRTBXeG...   \n",
      "4      https://api.spotify.com/v1/tracks/6wJwkMo278iW...   \n",
      "...                                                  ...   \n",
      "12511  https://api.spotify.com/v1/tracks/5MMZJtHOiH1R...   \n",
      "12512  https://api.spotify.com/v1/tracks/3i9UVldZOE0a...   \n",
      "12513  https://api.spotify.com/v1/tracks/2msvOEbkK50f...   \n",
      "12514  https://api.spotify.com/v1/tracks/1dGr1c8CrMLD...   \n",
      "12515  https://api.spotify.com/v1/tracks/3i9UVldZOE0a...   \n",
      "\n",
      "                                            analysis_url  duration_ms_y  \\\n",
      "0      https://api.spotify.com/v1/audio-analysis/2Aa9...         6479.0   \n",
      "1      https://api.spotify.com/v1/audio-analysis/34gC...       281560.0   \n",
      "2      https://api.spotify.com/v1/audio-analysis/5Erj...       270440.0   \n",
      "3      https://api.spotify.com/v1/audio-analysis/357p...       182667.0   \n",
      "4      https://api.spotify.com/v1/audio-analysis/6wJw...       227373.0   \n",
      "...                                                  ...            ...   \n",
      "12511  https://api.spotify.com/v1/audio-analysis/5MMZ...       211851.0   \n",
      "12512  https://api.spotify.com/v1/audio-analysis/3i9U...       221307.0   \n",
      "12513  https://api.spotify.com/v1/audio-analysis/2msv...       233467.0   \n",
      "12514  https://api.spotify.com/v1/audio-analysis/1dGr...       221307.0   \n",
      "12515  https://api.spotify.com/v1/audio-analysis/3i9U...       221307.0   \n",
      "\n",
      "       time_signature                                      artist_genres  \n",
      "0                 0.0                                                     \n",
      "1                 4.0                 uk pop, singer-songwriter pop, pop  \n",
      "2                 4.0  viral pop, rap, piano rock, pop, queens hip ho...  \n",
      "3                 4.0                                       hip pop, pop  \n",
      "4                 4.0                                 post-teen pop, pop  \n",
      "...               ...                                                ...  \n",
      "12511             4.0  modern rock, neo mellow, stomp and holler, fol...  \n",
      "12512             3.0                       canadian pop, viral pop, pop  \n",
      "12513             4.0                                                pop  \n",
      "12514             4.0                                                pop  \n",
      "12515             3.0                       canadian pop, viral pop, pop  \n",
      "\n",
      "[12516 rows x 48 columns]\n"
     ]
    }
   ],
   "source": [
    "print(df_enriched)"
   ]
  },
  {
   "cell_type": "code",
   "execution_count": 58,
   "metadata": {},
   "outputs": [
    {
     "name": "stdout",
     "output_type": "stream",
     "text": [
      "Enriched data saved to data/your_streaming_history_enriched.csv\n"
     ]
    }
   ],
   "source": [
    "# Replace with your desired output file path\n",
    "output_csv_filename = 'data/your_streaming_history_enriched.csv'\n",
    "\n",
    "# Save to CSV\n",
    "df_enriched.to_csv(output_csv_filename, index=False)\n",
    "\n",
    "print(f\"Enriched data saved to {output_csv_filename}\")\n"
   ]
  }
 ],
 "metadata": {
  "kernelspec": {
   "display_name": "Python 3",
   "language": "python",
   "name": "python3"
  },
  "language_info": {
   "codemirror_mode": {
    "name": "ipython",
    "version": 3
   },
   "file_extension": ".py",
   "mimetype": "text/x-python",
   "name": "python",
   "nbconvert_exporter": "python",
   "pygments_lexer": "ipython3",
   "version": "3.12.5"
  }
 },
 "nbformat": 4,
 "nbformat_minor": 2
}
