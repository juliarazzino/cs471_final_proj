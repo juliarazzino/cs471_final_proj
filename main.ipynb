{
 "cells": [
  {
   "cell_type": "markdown",
   "metadata": {},
   "source": [
    "CS471 Final Project"
   ]
  },
  {
   "cell_type": "code",
   "execution_count": 1,
   "metadata": {},
   "outputs": [
    {
     "name": "stdout",
     "output_type": "stream",
     "text": [
      "hello\n"
     ]
    }
   ],
   "source": [
    "print(\"hello\")\n",
    "import pandas as pd"
   ]
  },
  {
   "cell_type": "markdown",
   "metadata": {},
   "source": [
    "Read in the data, convert to csv"
   ]
  },
  {
   "cell_type": "code",
   "execution_count": 2,
   "metadata": {},
   "outputs": [],
   "source": [
    "def json_to_csv(json_filename, csv_filename=None):\n",
    "    try:\n",
    "        if csv_filename is None:\n",
    "            csv_filename = json_filename.replace('.json', '.csv')\n",
    "        \n",
    "        with open(json_filename, encoding='utf-8') as inputfile:\n",
    "            df = pd.read_json(inputfile)\n",
    "        \n",
    "        df.to_csv(csv_filename, encoding='utf-8', index=False)\n",
    "        \n",
    "        return f\"CSV file '{csv_filename}' created successfully.\"\n",
    "    \n",
    "    except FileNotFoundError:\n",
    "        return f\"Error: The file '{json_filename}' does not exist.\"\n",
    "    except ValueError as e:\n",
    "        return f\"Error: {e}. Ensure the JSON structure is valid for conversion.\"\n",
    "    except Exception as e:\n",
    "        return f\"An unexpected error occurred: {e}\"\n"
   ]
  },
  {
   "cell_type": "code",
   "execution_count": 5,
   "metadata": {},
   "outputs": [
    {
     "name": "stdout",
     "output_type": "stream",
     "text": [
      "CSV file 'data/Kovalsky_Streaming_History_Audio_2014-2020.csv' created successfully.\n"
     ]
    }
   ],
   "source": [
    "result = json_to_csv('data/Kovalsky_Streaming_History_Audio_2014-2020.json')\n",
    "print(result)"
   ]
  },
  {
   "cell_type": "markdown",
   "metadata": {},
   "source": [
    "Spotify Web API install and set up"
   ]
  },
  {
   "cell_type": "code",
   "execution_count": 6,
   "metadata": {},
   "outputs": [
    {
     "name": "stdout",
     "output_type": "stream",
     "text": [
      "Requirement already satisfied: pandas in c:\\users\\c25julia.razzino\\appdata\\local\\programs\\python\\python312\\lib\\site-packages (2.2.3)\n",
      "Requirement already satisfied: spotipy in c:\\users\\c25julia.razzino\\appdata\\local\\programs\\python\\python312\\lib\\site-packages (2.24.0)\n",
      "Requirement already satisfied: numpy>=1.26.0 in c:\\users\\c25julia.razzino\\appdata\\local\\programs\\python\\python312\\lib\\site-packages (from pandas) (2.1.2)\n",
      "Requirement already satisfied: python-dateutil>=2.8.2 in c:\\users\\c25julia.razzino\\appdata\\roaming\\python\\python312\\site-packages (from pandas) (2.9.0.post0)\n",
      "Requirement already satisfied: pytz>=2020.1 in c:\\users\\c25julia.razzino\\appdata\\local\\programs\\python\\python312\\lib\\site-packages (from pandas) (2024.2)\n",
      "Requirement already satisfied: tzdata>=2022.7 in c:\\users\\c25julia.razzino\\appdata\\local\\programs\\python\\python312\\lib\\site-packages (from pandas) (2024.2)\n",
      "Requirement already satisfied: redis>=3.5.3 in c:\\users\\c25julia.razzino\\appdata\\local\\programs\\python\\python312\\lib\\site-packages (from spotipy) (5.2.0)\n",
      "Requirement already satisfied: requests>=2.25.0 in c:\\users\\c25julia.razzino\\appdata\\local\\programs\\python\\python312\\lib\\site-packages (from spotipy) (2.32.3)\n",
      "Requirement already satisfied: urllib3>=1.26.0 in c:\\users\\c25julia.razzino\\appdata\\local\\programs\\python\\python312\\lib\\site-packages (from spotipy) (2.2.3)\n",
      "Requirement already satisfied: six>=1.5 in c:\\users\\c25julia.razzino\\appdata\\roaming\\python\\python312\\site-packages (from python-dateutil>=2.8.2->pandas) (1.16.0)\n",
      "Requirement already satisfied: charset-normalizer<4,>=2 in c:\\users\\c25julia.razzino\\appdata\\local\\programs\\python\\python312\\lib\\site-packages (from requests>=2.25.0->spotipy) (3.4.0)\n",
      "Requirement already satisfied: idna<4,>=2.5 in c:\\users\\c25julia.razzino\\appdata\\local\\programs\\python\\python312\\lib\\site-packages (from requests>=2.25.0->spotipy) (3.10)\n",
      "Requirement already satisfied: certifi>=2017.4.17 in c:\\users\\c25julia.razzino\\appdata\\local\\programs\\python\\python312\\lib\\site-packages (from requests>=2.25.0->spotipy) (2024.8.30)\n",
      "Note: you may need to restart the kernel to use updated packages.\n"
     ]
    },
    {
     "name": "stderr",
     "output_type": "stream",
     "text": [
      "\n",
      "[notice] A new release of pip is available: 24.2 -> 24.3.1\n",
      "[notice] To update, run: python.exe -m pip install --upgrade pip\n"
     ]
    }
   ],
   "source": [
    "pip install pandas spotipy"
   ]
  },
  {
   "cell_type": "code",
   "execution_count": 16,
   "metadata": {},
   "outputs": [],
   "source": [
    "import pandas as pd\n",
    "import spotipy\n",
    "from spotipy.oauth2 import SpotifyClientCredentials\n",
    "import time\n",
    "\n",
    "# Replace with your Spotify API credentials\n",
    "CLIENT_ID = 'ff359b48e7074fe09b99477eb78af081'         # Replace with your Client ID\n",
    "CLIENT_SECRET = 'b726f74b70a54c458a59839442f6a710' # Replace with your Client Secret\n",
    "\n",
    "# Authenticate with Spotify\n",
    "client_credentials_manager = SpotifyClientCredentials(\n",
    "    client_id=CLIENT_ID,\n",
    "    client_secret=CLIENT_SECRET\n",
    ")\n",
    "sp = spotipy.Spotify(client_credentials_manager=client_credentials_manager)\n"
   ]
  },
  {
   "cell_type": "code",
   "execution_count": 31,
   "metadata": {},
   "outputs": [],
   "source": [
    "# Replace with your JSON file path\n",
    "json_filename = '.\\\\data\\\\Razzino_Streaming_History_Audio_2023-2024_7.json'\n",
    "\n",
    "# Load the JSON data into a DataFrame\n",
    "df = pd.read_json(json_filename)\n"
   ]
  },
  {
   "cell_type": "code",
   "execution_count": 32,
   "metadata": {},
   "outputs": [
    {
     "name": "stdout",
     "output_type": "stream",
     "text": [
      "Total unique tracks: 3192\n"
     ]
    }
   ],
   "source": [
    "# Ensure the column name matches your data structure\n",
    "track_uri_column = 'spotify_track_uri'  # Adjust if your column name is different\n",
    "\n",
    "# Drop rows without a track URI\n",
    "df = df.dropna(subset=[track_uri_column])\n",
    "\n",
    "# Extract unique track URIs\n",
    "unique_track_uris = df[track_uri_column].unique().tolist()\n",
    "\n",
    "print(f\"Total unique tracks: {len(unique_track_uris)}\")\n"
   ]
  },
  {
   "cell_type": "code",
   "execution_count": 33,
   "metadata": {},
   "outputs": [],
   "source": [
    "# Dictionaries to hold fetched data\n",
    "track_info_dict = {}\n",
    "audio_features_dict = {}\n",
    "artist_genres_dict = {}\n"
   ]
  },
  {
   "cell_type": "code",
   "execution_count": 34,
   "metadata": {},
   "outputs": [],
   "source": [
    "# Spotify API allows fetching up to 50 tracks per request\n",
    "BATCH_SIZE = 50\n",
    "\n",
    "for i in range(0, len(unique_track_uris), BATCH_SIZE):\n",
    "    batch_uris = unique_track_uris[i:i+BATCH_SIZE]\n",
    "    \n",
    "    # Fetch track details\n",
    "    try:\n",
    "        tracks = sp.tracks(batch_uris)['tracks']\n",
    "        for track in tracks:\n",
    "            if track:  # Check if track is not None\n",
    "                track_id = track['uri']\n",
    "                track_info_dict[track_id] = {\n",
    "                    'track_name': track['name'],\n",
    "                    'album_name': track['album']['name'],\n",
    "                    'album_release_date': track['album']['release_date'],\n",
    "                    'track_popularity': track['popularity'],\n",
    "                    'duration_ms': track['duration_ms'],\n",
    "                    'explicit': track['explicit'],\n",
    "                    'artist_ids': [artist['id'] for artist in track['artists']],\n",
    "                    'artist_names': [artist['name'] for artist in track['artists']],\n",
    "                }\n",
    "    except Exception as e:\n",
    "        print(f\"Error fetching track details for batch starting at index {i}: {e}\")\n",
    "    \n",
    "    # Fetch audio features\n",
    "    try:\n",
    "        features = sp.audio_features(batch_uris)\n",
    "        for feature in features:\n",
    "            if feature:  # Check if feature is not None\n",
    "                track_id = feature['uri']\n",
    "                audio_features_dict[track_id] = feature\n",
    "    except Exception as e:\n",
    "        print(f\"Error fetching audio features for batch starting at index {i}: {e}\")\n",
    "    \n",
    "    time.sleep(0.1)  # Adjust sleep time as necessary\n"
   ]
  },
  {
   "cell_type": "code",
   "execution_count": 35,
   "metadata": {},
   "outputs": [
    {
     "name": "stdout",
     "output_type": "stream",
     "text": [
      "Total unique artists: 1611\n"
     ]
    }
   ],
   "source": [
    "# Collect all unique artist IDs\n",
    "all_artist_ids = set()\n",
    "for track_data in track_info_dict.values():\n",
    "    all_artist_ids.update(track_data['artist_ids'])\n",
    "\n",
    "print(f\"Total unique artists: {len(all_artist_ids)}\")\n",
    "\n",
    "# Fetch artist genres in batches\n",
    "artist_ids_list = list(all_artist_ids)\n",
    "for i in range(0, len(artist_ids_list), BATCH_SIZE):\n",
    "    batch_artist_ids = artist_ids_list[i:i+BATCH_SIZE]\n",
    "    try:\n",
    "        artists = sp.artists(batch_artist_ids)['artists']\n",
    "        for artist in artists:\n",
    "            if artist:  # Check if artist is not None\n",
    "                artist_id = artist['id']\n",
    "                artist_genres_dict[artist_id] = artist['genres']\n",
    "    except Exception as e:\n",
    "        print(f\"Error fetching artist genres for batch starting at index {i}: {e}\")\n",
    "    \n",
    "    time.sleep(0.1)  # Adjust sleep time as necessary\n"
   ]
  },
  {
   "cell_type": "code",
   "execution_count": 36,
   "metadata": {},
   "outputs": [],
   "source": [
    "# Convert track info dict to DataFrame\n",
    "track_info_df = pd.DataFrame.from_dict(track_info_dict, orient='index')\n",
    "\n",
    "# Convert audio features dict to DataFrame\n",
    "audio_features_df = pd.DataFrame.from_dict(audio_features_dict, orient='index')\n",
    "\n",
    "# Reset index to have 'spotify_track_uri' as a column\n",
    "track_info_df = track_info_df.reset_index().rename(columns={'index': 'spotify_track_uri'})\n",
    "audio_features_df = audio_features_df.reset_index().rename(columns={'index': 'spotify_track_uri'})\n"
   ]
  },
  {
   "cell_type": "code",
   "execution_count": 37,
   "metadata": {},
   "outputs": [
    {
     "name": "stdout",
     "output_type": "stream",
     "text": [
      "                         spotify_track_uri                 track_name  \\\n",
      "0     spotify:track:7f08qp3HROTkfrtNpiYGGo           Dirt On My Boots   \n",
      "1     spotify:track:2UikqkwBv7aIvlixeVXHWt  You Should Probably Leave   \n",
      "2     spotify:track:1soxUgYIZb1qx1c7o1Lc7z           Drunk On A Plane   \n",
      "3     spotify:track:5TWAIHYaOnYg4txfmCgon5                     Nobody   \n",
      "4     spotify:track:5uU1uuyaUIBOiiUSQG7Wl3                  You Proof   \n",
      "...                                    ...                        ...   \n",
      "3187  spotify:track:3iqKk5wUb8RNSV9zHqq0RG               Made For You   \n",
      "3188  spotify:track:0C1ClgEiaiiByV5YHaNbKi               Orange Skies   \n",
      "3189  spotify:track:6neA4a4gEhWaVfZor9f1XC                Cryin' Eyes   \n",
      "3190  spotify:track:0lKADxURVH8NNq3YmWQ319                Winter Snow   \n",
      "3191  spotify:track:0V3SsApMCCadPscRl0WtBq           Where I Find God   \n",
      "\n",
      "                                 album_name album_release_date  \\\n",
      "0                        California Sunrise         2016-05-13   \n",
      "1                             Starting Over         2020-11-13   \n",
      "2                                     RISER         2014-01-01   \n",
      "3                        Nothing To Do Town         2019-04-26   \n",
      "4                                 You Proof         2022-05-13   \n",
      "...                                     ...                ...   \n",
      "3187                  Greetings From...Jake         2019-03-29   \n",
      "3188  Between The Joy And The Sorrow, Pt. 1         2022-06-24   \n",
      "3189                         Not That Lucky         2009-08-18   \n",
      "3190                                  Peace         2019-11-22   \n",
      "3191                       Stack of Records         2021-09-24   \n",
      "\n",
      "      track_popularity  duration_ms  explicit                artist_ids  \\\n",
      "0                   73       201893     False  [4MoAOfV4ROWofLG3a3hhBN]   \n",
      "1                   81       213493     False  [4YLtscXsxbVgi031ovDDdh]   \n",
      "2                   67       254466     False  [7x8nK0m0cP2ksQf0mjWdPS]   \n",
      "3                   51       162773     False  [78YqeIji3mgAS2K1Maca6x]   \n",
      "4                   66       157477     False  [4oUHIQIBe0LHzYfvXNW4QM]   \n",
      "...                ...          ...       ...                       ...   \n",
      "3187                63       238400     False  [1n2pb9Tsfe4SwAjmUac6YT]   \n",
      "3188                31       126373     False  [1f4Ai5lRAeK0wameps1zqU]   \n",
      "3189                12       251376     False  [7vMYkVWF0e3m7uRuTwqIfD]   \n",
      "3190                23       228706     False  [1GKYNY4rIPnOuTfC0J1IWw]   \n",
      "3191                62       249613     False  [6MWr1SmTaCU5BJzOZxwJEw]   \n",
      "\n",
      "             artist_names  \n",
      "0             [Jon Pardi]  \n",
      "1       [Chris Stapleton]  \n",
      "2        [Dierks Bentley]  \n",
      "3           [Dylan Scott]  \n",
      "4         [Morgan Wallen]  \n",
      "...                   ...  \n",
      "3187          [Jake Owen]  \n",
      "3188          [Ian Yates]  \n",
      "3189  [Two Tons Of Steel]  \n",
      "3190       [Audrey Assad]  \n",
      "3191        [Larry Fleet]  \n",
      "\n",
      "[3192 rows x 9 columns]\n"
     ]
    }
   ],
   "source": [
    "print(track_info_df)"
   ]
  },
  {
   "cell_type": "code",
   "execution_count": 38,
   "metadata": {},
   "outputs": [],
   "source": [
    "# Merge track info and audio features on 'spotify_track_uri'\n",
    "track_data_df = pd.merge(track_info_df, audio_features_df, on='spotify_track_uri', how='left')\n"
   ]
  },
  {
   "cell_type": "code",
   "execution_count": 39,
   "metadata": {},
   "outputs": [
    {
     "name": "stdout",
     "output_type": "stream",
     "text": [
      "Index(['spotify_track_uri', 'track_name', 'album_name', 'album_release_date',\n",
      "       'track_popularity', 'duration_ms_x', 'explicit', 'artist_ids',\n",
      "       'artist_names', 'danceability', 'energy', 'key', 'loudness', 'mode',\n",
      "       'speechiness', 'acousticness', 'instrumentalness', 'liveness',\n",
      "       'valence', 'tempo', 'type', 'id', 'uri', 'track_href', 'analysis_url',\n",
      "       'duration_ms_y', 'time_signature'],\n",
      "      dtype='object')\n"
     ]
    }
   ],
   "source": [
    "print(track_data_df.columns)"
   ]
  },
  {
   "cell_type": "code",
   "execution_count": 40,
   "metadata": {},
   "outputs": [],
   "source": [
    "# Function to get genres for a list of artist IDs\n",
    "def get_genres_for_artists(artist_ids):\n",
    "    genres = set()\n",
    "    for artist_id in artist_ids:\n",
    "        artist_genres = artist_genres_dict.get(artist_id, [])\n",
    "        genres.update(artist_genres)\n",
    "    return list(genres)\n",
    "\n",
    "# Apply the function to each row\n",
    "track_data_df['artist_genres'] = track_data_df['artist_ids'].apply(get_genres_for_artists)\n"
   ]
  },
  {
   "cell_type": "code",
   "execution_count": 41,
   "metadata": {},
   "outputs": [],
   "source": [
    "# Flatten 'artist_ids' and 'artist_names' to strings\n",
    "track_data_df['artist_ids'] = track_data_df['artist_ids'].apply(lambda x: ', '.join(x))\n",
    "track_data_df['artist_names'] = track_data_df['artist_names'].apply(lambda x: ', '.join(x))\n",
    "track_data_df['artist_genres'] = track_data_df['artist_genres'].apply(lambda x: ', '.join(x))\n",
    "\n",
    "# Optionally, drop columns you don't need\n",
    "# track_data_df = track_data_df.drop(columns=['type', 'id', 'track_href', 'analysis_url', 'time_signature'])\n"
   ]
  },
  {
   "cell_type": "code",
   "execution_count": 42,
   "metadata": {},
   "outputs": [],
   "source": [
    "# Merge the enriched track data back into the original DataFrame\n",
    "df_enriched = pd.merge(df, track_data_df, on='spotify_track_uri', how='left')\n"
   ]
  },
  {
   "cell_type": "code",
   "execution_count": 43,
   "metadata": {},
   "outputs": [
    {
     "name": "stdout",
     "output_type": "stream",
     "text": [
      "                         ts  username        platform  ms_played conn_country  \\\n",
      "0      2023-12-07T20:34:52Z  jujurazz         windows     201893           US   \n",
      "1      2023-12-07T20:38:26Z  jujurazz         windows     213493           US   \n",
      "2      2023-12-07T20:42:41Z  jujurazz         windows     254466           US   \n",
      "3      2023-12-07T20:45:22Z  jujurazz         windows     160706           US   \n",
      "4      2023-12-07T20:48:00Z  jujurazz         windows     157477           US   \n",
      "...                     ...       ...             ...        ...          ...   \n",
      "11864  2024-10-17T12:34:58Z  jujurazz  not_applicable     393119           US   \n",
      "11865  2024-10-17T12:38:30Z  jujurazz  not_applicable     212826           US   \n",
      "11866  2024-10-17T12:42:17Z  jujurazz  not_applicable     226300           US   \n",
      "11867  2024-10-17T12:46:15Z  jujurazz  not_applicable     238200           US   \n",
      "11868  2024-10-17T12:59:19Z  jujurazz  not_applicable     184039           US   \n",
      "\n",
      "      ip_addr_decrypted user_agent_decrypted master_metadata_track_name  \\\n",
      "0        129.19.163.254              unknown           Dirt On My Boots   \n",
      "1        129.19.163.254              unknown  You Should Probably Leave   \n",
      "2        129.19.163.254              unknown           Drunk On A Plane   \n",
      "3        129.19.163.254              unknown                     Nobody   \n",
      "4        129.19.163.254              unknown                  You Proof   \n",
      "...                 ...                  ...                        ...   \n",
      "11864    129.19.163.254                 None  Great Are You Lord - Live   \n",
      "11865    129.19.163.254                 None         How Great Thou Art   \n",
      "11866    129.19.163.254                 None                      He Is   \n",
      "11867    129.19.163.254                 None      What A Beautiful Name   \n",
      "11868    129.19.163.254                 None       All I Have Is Christ   \n",
      "\n",
      "      master_metadata_album_artist_name  \\\n",
      "0                             Jon Pardi   \n",
      "1                       Chris Stapleton   \n",
      "2                        Dierks Bentley   \n",
      "3                           Dylan Scott   \n",
      "4                         Morgan Wallen   \n",
      "...                                 ...   \n",
      "11864                    Casting Crowns   \n",
      "11865                      Alan Jackson   \n",
      "11866                           Crowder   \n",
      "11867                  Hillsong Worship   \n",
      "11868             Sovereign Grace Music   \n",
      "\n",
      "            master_metadata_album_album_name  ... valence    tempo  \\\n",
      "0                         California Sunrise  ...   0.533   90.031   \n",
      "1                              Starting Over  ...   0.552  183.890   \n",
      "2                                      RISER  ...   0.660  205.972   \n",
      "3                         Nothing To Do Town  ...   0.666   79.971   \n",
      "4                                  You Proof  ...   0.644  119.706   \n",
      "...                                      ...  ...     ...      ...   \n",
      "11864              A Live Worship Experience  ...   0.134  145.010   \n",
      "11865                      Precious Memories  ...   0.174  174.519   \n",
      "11866                           Milk & Honey  ...   0.329  133.892   \n",
      "11867                  What A Beautiful Name  ...   0.138  135.902   \n",
      "11868  The Gathering: Live from WorshipGod11  ...   0.140  149.250   \n",
      "\n",
      "                 type                      id  \\\n",
      "0      audio_features  7f08qp3HROTkfrtNpiYGGo   \n",
      "1      audio_features  2UikqkwBv7aIvlixeVXHWt   \n",
      "2      audio_features  1soxUgYIZb1qx1c7o1Lc7z   \n",
      "3      audio_features  5TWAIHYaOnYg4txfmCgon5   \n",
      "4      audio_features  5uU1uuyaUIBOiiUSQG7Wl3   \n",
      "...               ...                     ...   \n",
      "11864  audio_features  4raGCYqMOIn8n9bgQJSNxk   \n",
      "11865  audio_features  1mGQuFssuBEYYo2ZydhTeT   \n",
      "11866  audio_features  1INYG1Ln9PE0F1QHTjMzzO   \n",
      "11867  audio_features  4KLj9QjEhJl2WU50mxRF9Z   \n",
      "11868  audio_features  1mFmao2yjtkYd5kVMJMSpu   \n",
      "\n",
      "                                        uri  \\\n",
      "0      spotify:track:7f08qp3HROTkfrtNpiYGGo   \n",
      "1      spotify:track:2UikqkwBv7aIvlixeVXHWt   \n",
      "2      spotify:track:1soxUgYIZb1qx1c7o1Lc7z   \n",
      "3      spotify:track:5TWAIHYaOnYg4txfmCgon5   \n",
      "4      spotify:track:5uU1uuyaUIBOiiUSQG7Wl3   \n",
      "...                                     ...   \n",
      "11864  spotify:track:4raGCYqMOIn8n9bgQJSNxk   \n",
      "11865  spotify:track:1mGQuFssuBEYYo2ZydhTeT   \n",
      "11866  spotify:track:1INYG1Ln9PE0F1QHTjMzzO   \n",
      "11867  spotify:track:4KLj9QjEhJl2WU50mxRF9Z   \n",
      "11868  spotify:track:1mFmao2yjtkYd5kVMJMSpu   \n",
      "\n",
      "                                              track_href  \\\n",
      "0      https://api.spotify.com/v1/tracks/7f08qp3HROTk...   \n",
      "1      https://api.spotify.com/v1/tracks/2UikqkwBv7aI...   \n",
      "2      https://api.spotify.com/v1/tracks/1soxUgYIZb1q...   \n",
      "3      https://api.spotify.com/v1/tracks/5TWAIHYaOnYg...   \n",
      "4      https://api.spotify.com/v1/tracks/5uU1uuyaUIBO...   \n",
      "...                                                  ...   \n",
      "11864  https://api.spotify.com/v1/tracks/4raGCYqMOIn8...   \n",
      "11865  https://api.spotify.com/v1/tracks/1mGQuFssuBEY...   \n",
      "11866  https://api.spotify.com/v1/tracks/1INYG1Ln9PE0...   \n",
      "11867  https://api.spotify.com/v1/tracks/4KLj9QjEhJl2...   \n",
      "11868  https://api.spotify.com/v1/tracks/1mFmao2yjtkY...   \n",
      "\n",
      "                                            analysis_url  duration_ms_y  \\\n",
      "0      https://api.spotify.com/v1/audio-analysis/7f08...         201893   \n",
      "1      https://api.spotify.com/v1/audio-analysis/2Uik...         213493   \n",
      "2      https://api.spotify.com/v1/audio-analysis/1sox...         254467   \n",
      "3      https://api.spotify.com/v1/audio-analysis/5TWA...         162773   \n",
      "4      https://api.spotify.com/v1/audio-analysis/5uU1...         157478   \n",
      "...                                                  ...            ...   \n",
      "11864  https://api.spotify.com/v1/audio-analysis/4raG...         393120   \n",
      "11865  https://api.spotify.com/v1/audio-analysis/1mGQ...         212827   \n",
      "11866  https://api.spotify.com/v1/audio-analysis/1INY...         226300   \n",
      "11867  https://api.spotify.com/v1/audio-analysis/4KLj...         238200   \n",
      "11868  https://api.spotify.com/v1/audio-analysis/1mFm...         305907   \n",
      "\n",
      "       time_signature                                      artist_genres  \n",
      "0                   4  country road, modern country rock, country, co...  \n",
      "1                   4               outlaw country, contemporary country  \n",
      "2                   4        country road, country, contemporary country  \n",
      "3                   4  country road, modern country rock, contemporar...  \n",
      "4                   4                               contemporary country  \n",
      "...               ...                                                ...  \n",
      "11864               3   christian alternative rock, ccm, christian music  \n",
      "11865               4                                            country  \n",
      "11866               4   christian alternative rock, ccm, christian music  \n",
      "11867               4       ccm, worship, christian music, world worship  \n",
      "11868               3                                      roots worship  \n",
      "\n",
      "[11869 rows x 48 columns]\n"
     ]
    }
   ],
   "source": [
    "print(df_enriched)"
   ]
  },
  {
   "cell_type": "code",
   "execution_count": 44,
   "metadata": {},
   "outputs": [
    {
     "name": "stdout",
     "output_type": "stream",
     "text": [
      "Enriched data saved to data/your_streaming_history_enriched.csv\n"
     ]
    }
   ],
   "source": [
    "# Replace with your desired output file path\n",
    "output_csv_filename = 'data/your_streaming_history_enriched.csv'\n",
    "\n",
    "# Save to CSV\n",
    "df_enriched.to_csv(output_csv_filename, index=False)\n",
    "\n",
    "print(f\"Enriched data saved to {output_csv_filename}\")\n"
   ]
  }
 ],
 "metadata": {
  "kernelspec": {
   "display_name": "Python 3",
   "language": "python",
   "name": "python3"
  },
  "language_info": {
   "codemirror_mode": {
    "name": "ipython",
    "version": 3
   },
   "file_extension": ".py",
   "mimetype": "text/x-python",
   "name": "python",
   "nbconvert_exporter": "python",
   "pygments_lexer": "ipython3",
   "version": "3.12.5"
  }
 },
 "nbformat": 4,
 "nbformat_minor": 2
}
