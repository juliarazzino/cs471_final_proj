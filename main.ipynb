{
 "cells": [
  {
   "cell_type": "markdown",
   "metadata": {},
   "source": [
    "# CS471 Final Project Data Processing\n",
    "### Julia Razzino, Connor Brezenski, Michaela Kovalsky"
   ]
  },
  {
   "cell_type": "markdown",
   "metadata": {},
   "source": [
    "We are designing a machine learning model to predict an individual's Big Five personality traits based on their extended Spotify listening history. First, we will import the required libraries."
   ]
  },
  {
   "cell_type": "code",
   "execution_count": 13,
   "metadata": {},
   "outputs": [],
   "source": [
    "# Import statements\n",
    "import pandas as pd\n",
    "import spotipy\n",
    "from spotipy.oauth2 import SpotifyClientCredentials\n",
    "import time\n",
    "import numpy as np\n",
    "import glob\n",
    "import os\n",
    "import sklearn\n"
   ]
  },
  {
   "cell_type": "markdown",
   "metadata": {},
   "source": [
    "Next, we create a function to read in the listening history data (json) and convert it to a csv."
   ]
  },
  {
   "cell_type": "code",
   "execution_count": 14,
   "metadata": {},
   "outputs": [],
   "source": [
    "def json_to_csv(json_filename, csv_filename=None):\n",
    "    try:\n",
    "        if csv_filename is None:\n",
    "            csv_filename = json_filename.replace('.json', '.csv')\n",
    "        \n",
    "        with open(json_filename, encoding='utf-8') as inputfile:\n",
    "            df = pd.read_json(inputfile)\n",
    "        \n",
    "        df.to_csv(csv_filename, encoding='utf-8', index=False)\n",
    "        \n",
    "        return f\"CSV file '{csv_filename}' created successfully.\"\n",
    "    \n",
    "    except FileNotFoundError:\n",
    "        return f\"Error: The file '{json_filename}' does not exist.\"\n",
    "    except ValueError as e:\n",
    "        return f\"Error: {e}. Ensure the JSON structure is valid for conversion.\"\n",
    "    except Exception as e:\n",
    "        return f\"An unexpected error occurred: {e}\"\n"
   ]
  },
  {
   "cell_type": "markdown",
   "metadata": {},
   "source": [
    "Here, we call the function we just made and print the results."
   ]
  },
  {
   "cell_type": "code",
   "execution_count": 15,
   "metadata": {},
   "outputs": [
    {
     "name": "stdout",
     "output_type": "stream",
     "text": [
      "Error: The file 'data/Kovalsky_Streaming_History_Audio_2014-2020.json' does not exist.\n"
     ]
    }
   ],
   "source": [
    "result = json_to_csv('data/Kovalsky_Streaming_History_Audio_2014-2020.json')\n",
    "print(result)"
   ]
  },
  {
   "cell_type": "markdown",
   "metadata": {},
   "source": [
    "Check for the Spotify Web API install and set up."
   ]
  },
  {
   "cell_type": "code",
   "execution_count": 16,
   "metadata": {},
   "outputs": [
    {
     "name": "stdout",
     "output_type": "stream",
     "text": [
      "Requirement already satisfied: pandas in c:\\users\\c25julia.razzino\\appdata\\local\\programs\\python\\python312\\lib\\site-packages (2.2.3)\n",
      "Requirement already satisfied: spotipy in c:\\users\\c25julia.razzino\\appdata\\local\\programs\\python\\python312\\lib\\site-packages (2.24.0)\n",
      "Requirement already satisfied: numpy>=1.26.0 in c:\\users\\c25julia.razzino\\appdata\\local\\programs\\python\\python312\\lib\\site-packages (from pandas) (2.1.2)\n",
      "Requirement already satisfied: python-dateutil>=2.8.2 in c:\\users\\c25julia.razzino\\appdata\\roaming\\python\\python312\\site-packages (from pandas) (2.9.0.post0)\n",
      "Requirement already satisfied: pytz>=2020.1 in c:\\users\\c25julia.razzino\\appdata\\local\\programs\\python\\python312\\lib\\site-packages (from pandas) (2024.2)\n",
      "Requirement already satisfied: tzdata>=2022.7 in c:\\users\\c25julia.razzino\\appdata\\local\\programs\\python\\python312\\lib\\site-packages (from pandas) (2024.2)\n",
      "Requirement already satisfied: redis>=3.5.3 in c:\\users\\c25julia.razzino\\appdata\\local\\programs\\python\\python312\\lib\\site-packages (from spotipy) (5.2.0)\n",
      "Requirement already satisfied: requests>=2.25.0 in c:\\users\\c25julia.razzino\\appdata\\local\\programs\\python\\python312\\lib\\site-packages (from spotipy) (2.32.3)\n",
      "Requirement already satisfied: urllib3>=1.26.0 in c:\\users\\c25julia.razzino\\appdata\\local\\programs\\python\\python312\\lib\\site-packages (from spotipy) (2.2.3)\n",
      "Requirement already satisfied: six>=1.5 in c:\\users\\c25julia.razzino\\appdata\\roaming\\python\\python312\\site-packages (from python-dateutil>=2.8.2->pandas) (1.16.0)\n",
      "Requirement already satisfied: charset-normalizer<4,>=2 in c:\\users\\c25julia.razzino\\appdata\\local\\programs\\python\\python312\\lib\\site-packages (from requests>=2.25.0->spotipy) (3.4.0)\n",
      "Requirement already satisfied: idna<4,>=2.5 in c:\\users\\c25julia.razzino\\appdata\\local\\programs\\python\\python312\\lib\\site-packages (from requests>=2.25.0->spotipy) (3.10)\n",
      "Requirement already satisfied: certifi>=2017.4.17 in c:\\users\\c25julia.razzino\\appdata\\local\\programs\\python\\python312\\lib\\site-packages (from requests>=2.25.0->spotipy) (2024.8.30)\n"
     ]
    },
    {
     "name": "stderr",
     "output_type": "stream",
     "text": [
      "\n",
      "[notice] A new release of pip is available: 24.2 -> 24.3.1\n",
      "[notice] To update, run: python.exe -m pip install --upgrade pip\n"
     ]
    }
   ],
   "source": [
    "!pip install pandas spotipy"
   ]
  },
  {
   "cell_type": "markdown",
   "metadata": {},
   "source": [
    "Set up the spotify API."
   ]
  },
  {
   "cell_type": "code",
   "execution_count": 17,
   "metadata": {},
   "outputs": [],
   "source": [
    "# Replace with your Spotify API credentials\n",
    "CLIENT_ID = 'ff359b48e7074fe09b99477eb78af081'         # Replace with your Client ID\n",
    "CLIENT_SECRET = 'b726f74b70a54c458a59839442f6a710' # Replace with your Client Secret\n",
    "\n",
    "# Authenticate with Spotify\n",
    "client_credentials_manager = SpotifyClientCredentials(\n",
    "    client_id=CLIENT_ID,\n",
    "    client_secret=CLIENT_SECRET\n",
    ")\n",
    "sp = spotipy.Spotify(client_credentials_manager=client_credentials_manager)\n"
   ]
  },
  {
   "cell_type": "markdown",
   "metadata": {},
   "source": [
    "Specify path listening history file path."
   ]
  },
  {
   "cell_type": "code",
   "execution_count": 21,
   "metadata": {},
   "outputs": [],
   "source": [
    "# Replace with your JSON file path\n",
    "json_filename = '.\\\\data\\\\raw\\\\Brezenski_Streaming_History_Audio_2023-2024_8.json'\n",
    "\n",
    "# Load the JSON data into a DataFrame\n",
    "df = pd.read_json(json_filename)\n"
   ]
  },
  {
   "cell_type": "markdown",
   "metadata": {},
   "source": [
    "Perpare data for Spotify API call."
   ]
  },
  {
   "cell_type": "code",
   "execution_count": 22,
   "metadata": {},
   "outputs": [
    {
     "name": "stdout",
     "output_type": "stream",
     "text": [
      "Total unique tracks: 5407\n"
     ]
    }
   ],
   "source": [
    "# Ensure the column name matches your data structure\n",
    "track_uri_column = 'spotify_track_uri'  # Adjust if your column name is different\n",
    "\n",
    "# Drop rows without a track URI\n",
    "df = df.dropna(subset=[track_uri_column])\n",
    "\n",
    "# Extract unique track URIs\n",
    "unique_track_uris = df[track_uri_column].unique().tolist()\n",
    "\n",
    "print(f\"Total unique tracks: {len(unique_track_uris)}\")\n"
   ]
  },
  {
   "cell_type": "markdown",
   "metadata": {},
   "source": [
    "Set up dictionaries."
   ]
  },
  {
   "cell_type": "code",
   "execution_count": 23,
   "metadata": {},
   "outputs": [],
   "source": [
    "# Dictionaries to hold fetched data\n",
    "track_info_dict = {}\n",
    "audio_features_dict = {}\n",
    "artist_genres_dict = {}\n"
   ]
  },
  {
   "cell_type": "markdown",
   "metadata": {},
   "source": [
    "Call track details and audio features."
   ]
  },
  {
   "cell_type": "code",
   "execution_count": 24,
   "metadata": {},
   "outputs": [],
   "source": [
    "# Spotify API allows fetching up to 50 tracks per request\n",
    "BATCH_SIZE = 50\n",
    "\n",
    "for i in range(0, len(unique_track_uris), BATCH_SIZE):\n",
    "    batch_uris = unique_track_uris[i:i+BATCH_SIZE]\n",
    "    \n",
    "    # Fetch track details\n",
    "    try:\n",
    "        tracks = sp.tracks(batch_uris)['tracks']\n",
    "        for track in tracks:\n",
    "            if track:  # Check if track is not None\n",
    "                track_id = track['uri']\n",
    "                track_info_dict[track_id] = {\n",
    "                    'track_name': track['name'],\n",
    "                    'album_name': track['album']['name'],\n",
    "                    'album_release_date': track['album']['release_date'],\n",
    "                    'track_popularity': track['popularity'],\n",
    "                    'duration_ms': track['duration_ms'],\n",
    "                    'explicit': track['explicit'],\n",
    "                    'artist_ids': [artist['id'] for artist in track['artists']],\n",
    "                    'artist_names': [artist['name'] for artist in track['artists']],\n",
    "                }\n",
    "    except Exception as e:\n",
    "        print(f\"Error fetching track details for batch starting at index {i}: {e}\")\n",
    "    \n",
    "    # Fetch audio features\n",
    "    try:\n",
    "        features = sp.audio_features(batch_uris)\n",
    "        for feature in features:\n",
    "            if feature:  # Check if feature is not None\n",
    "                track_id = feature['uri']\n",
    "                audio_features_dict[track_id] = feature\n",
    "    except Exception as e:\n",
    "        print(f\"Error fetching audio features for batch starting at index {i}: {e}\")\n",
    "    \n",
    "    time.sleep(0.1)  # Adjust sleep time as necessary\n"
   ]
  },
  {
   "cell_type": "markdown",
   "metadata": {},
   "source": [
    "Fetch artist's generes."
   ]
  },
  {
   "cell_type": "code",
   "execution_count": 25,
   "metadata": {},
   "outputs": [
    {
     "name": "stdout",
     "output_type": "stream",
     "text": [
      "Total unique artists: 3542\n"
     ]
    }
   ],
   "source": [
    "# Collect all unique artist IDs\n",
    "all_artist_ids = set()\n",
    "for track_data in track_info_dict.values():\n",
    "    all_artist_ids.update(track_data['artist_ids'])\n",
    "\n",
    "print(f\"Total unique artists: {len(all_artist_ids)}\")\n",
    "\n",
    "# Fetch artist genres in batches\n",
    "artist_ids_list = list(all_artist_ids)\n",
    "for i in range(0, len(artist_ids_list), BATCH_SIZE):\n",
    "    batch_artist_ids = artist_ids_list[i:i+BATCH_SIZE]\n",
    "    try:\n",
    "        artists = sp.artists(batch_artist_ids)['artists']\n",
    "        for artist in artists:\n",
    "            if artist:  # Check if artist is not None\n",
    "                artist_id = artist['id']\n",
    "                artist_genres_dict[artist_id] = artist['genres']\n",
    "    except Exception as e:\n",
    "        print(f\"Error fetching artist genres for batch starting at index {i}: {e}\")\n",
    "    \n",
    "    time.sleep(0.1)  # Adjust sleep time as necessary\n"
   ]
  },
  {
   "cell_type": "markdown",
   "metadata": {},
   "source": [
    "Add dictionaries to data frame."
   ]
  },
  {
   "cell_type": "code",
   "execution_count": 26,
   "metadata": {},
   "outputs": [],
   "source": [
    "# Convert track info dict to DataFrame\n",
    "track_info_df = pd.DataFrame.from_dict(track_info_dict, orient='index')\n",
    "\n",
    "# Convert audio features dict to DataFrame\n",
    "audio_features_df = pd.DataFrame.from_dict(audio_features_dict, orient='index')\n",
    "\n",
    "# Reset index to have 'spotify_track_uri' as a column\n",
    "track_info_df = track_info_df.reset_index().rename(columns={'index': 'spotify_track_uri'})\n",
    "audio_features_df = audio_features_df.reset_index().rename(columns={'index': 'spotify_track_uri'})\n"
   ]
  },
  {
   "cell_type": "markdown",
   "metadata": {},
   "source": [
    "Print results."
   ]
  },
  {
   "cell_type": "code",
   "execution_count": 27,
   "metadata": {},
   "outputs": [
    {
     "name": "stdout",
     "output_type": "stream",
     "text": [
      "                         spotify_track_uri  \\\n",
      "0     spotify:track:7aqfrAY2p9BUSiupwk3svU   \n",
      "1     spotify:track:7LTCmtMpf3JPfBE8gAl64z   \n",
      "2     spotify:track:0VJXWgw0GWsprapvlpbuyu   \n",
      "3     spotify:track:4M68xjcc42oxyphhzpOWXS   \n",
      "4     spotify:track:5VE6OSfJkMHyMpHaJzuUqn   \n",
      "...                                    ...   \n",
      "5402  spotify:track:688ucfDoelAC8sY7wgHCV4   \n",
      "5403  spotify:track:2wAJTrFhCnQyNSD3oUgTZO   \n",
      "5404  spotify:track:3mTpegrOwRn0oJjv4TSbEE   \n",
      "5405  spotify:track:6gbiTbclnHlmSIPfmF2zEc   \n",
      "5406  spotify:track:5A8xI7PN4WDe9e61xEdt94   \n",
      "\n",
      "                                track_name                      album_name  \\\n",
      "0     First Person Shooter (feat. J. Cole)                For All The Dogs   \n",
      "1           Turn Yo Clic Up (feat. Future)  Turn Yo Clic Up (feat. Future)   \n",
      "2                                     Okay                            Okay   \n",
      "3                             Great Gatsby                       Nostalgia   \n",
      "4                            Gimme Da Lite                   Gimme Da Lite   \n",
      "...                                    ...                             ...   \n",
      "5402                      Jesus in my life                Jesus in my life   \n",
      "5403                              Work Out  Cole World: The Sideline Story   \n",
      "5404                      Can't Get Enough  Cole World: The Sideline Story   \n",
      "5405                Gang Shit No Lame Shit                        Glockoma   \n",
      "5406                             Yeah Glo!               Ehhthang Ehhthang   \n",
      "\n",
      "     album_release_date  track_popularity  duration_ms  explicit  \\\n",
      "0            2023-10-06                74       247444      True   \n",
      "1            2023-07-14                57       230835      True   \n",
      "2            2023-12-08                43       192195      True   \n",
      "3            2023-09-15                69       146751      True   \n",
      "4            2023-12-08                54       113333      True   \n",
      "...                 ...               ...          ...       ...   \n",
      "5402         2022-02-04                40       147719     False   \n",
      "5403         2011-09-27                79       235320      True   \n",
      "5404         2011-09-27                69       225960     False   \n",
      "5405         2018-11-23                71       131600      True   \n",
      "5406         2024-04-05                75       142702      True   \n",
      "\n",
      "                                             artist_ids  \\\n",
      "0      [3TVXtAsR1Inumwj472S9r4, 6l3HvQ5sa6mXTsMTB19rO5]   \n",
      "1      [0VRj0yCOv2FXJNP47XQnx5, 1RyvyyTE3xzB2ZywiAwp0i]   \n",
      "2     [6vXTefBL93Dj5IqAWq6OTv, 5f7VJjfbwm532GiveGC0Z...   \n",
      "3                              [45TgXXqMDdF8BkjA83OM7z]   \n",
      "4      [23DYJsw4uSCguIqiTIDtcN, 6icQOAFXDZKsumw3YXyusw]   \n",
      "...                                                 ...   \n",
      "5402                           [1KTljUXZGt7HkAFFEnDBn1]   \n",
      "5403                           [6l3HvQ5sa6mXTsMTB19rO5]   \n",
      "5404   [6l3HvQ5sa6mXTsMTB19rO5, 2iojnBLj0qIMiKPvVhLnsH]   \n",
      "5405                           [0RESbWvOMyua0yuyVrztJ5]   \n",
      "5406                           [2qoQgPAilErOKCwE2Y8wOG]   \n",
      "\n",
      "                               artist_names  \n",
      "0                          [Drake, J. Cole]  \n",
      "1                           [Quavo, Future]  \n",
      "2     [French Montana, Lil Baby, ATL Jacob]  \n",
      "3                                [Rod Wave]  \n",
      "4                   [Southside, Lil Yachty]  \n",
      "...                                     ...  \n",
      "5402                            [Skema Boy]  \n",
      "5403                              [J. Cole]  \n",
      "5404                  [J. Cole, Trey Songz]  \n",
      "5405                            [Key Glock]  \n",
      "5406                             [GloRilla]  \n",
      "\n",
      "[5407 rows x 9 columns]\n"
     ]
    }
   ],
   "source": [
    "print(track_info_df)"
   ]
  },
  {
   "cell_type": "markdown",
   "metadata": {},
   "source": [
    "Merge results into one data frame."
   ]
  },
  {
   "cell_type": "code",
   "execution_count": 28,
   "metadata": {},
   "outputs": [],
   "source": [
    "# Merge track info and audio features on 'spotify_track_uri'\n",
    "track_data_df = pd.merge(track_info_df, audio_features_df, on='spotify_track_uri', how='left')"
   ]
  },
  {
   "cell_type": "markdown",
   "metadata": {},
   "source": [
    "Review columns for correctness."
   ]
  },
  {
   "cell_type": "code",
   "execution_count": 29,
   "metadata": {},
   "outputs": [
    {
     "name": "stdout",
     "output_type": "stream",
     "text": [
      "Index(['spotify_track_uri', 'track_name', 'album_name', 'album_release_date',\n",
      "       'track_popularity', 'duration_ms_x', 'explicit', 'artist_ids',\n",
      "       'artist_names', 'danceability', 'energy', 'key', 'loudness', 'mode',\n",
      "       'speechiness', 'acousticness', 'instrumentalness', 'liveness',\n",
      "       'valence', 'tempo', 'type', 'id', 'uri', 'track_href', 'analysis_url',\n",
      "       'duration_ms_y', 'time_signature'],\n",
      "      dtype='object')\n"
     ]
    }
   ],
   "source": [
    "print(track_data_df.columns)"
   ]
  },
  {
   "cell_type": "markdown",
   "metadata": {},
   "source": [
    "Get genres for artists."
   ]
  },
  {
   "cell_type": "code",
   "execution_count": 30,
   "metadata": {},
   "outputs": [],
   "source": [
    "# Function to get genres for a list of artist IDs\n",
    "def get_genres_for_artists(artist_ids):\n",
    "    genres = set()\n",
    "    for artist_id in artist_ids:\n",
    "        artist_genres = artist_genres_dict.get(artist_id, [])\n",
    "        genres.update(artist_genres)\n",
    "    return list(genres)\n",
    "\n",
    "# Apply the function to each row\n",
    "track_data_df['artist_genres'] = track_data_df['artist_ids'].apply(get_genres_for_artists)\n"
   ]
  },
  {
   "cell_type": "markdown",
   "metadata": {},
   "source": [
    "Convert to strings."
   ]
  },
  {
   "cell_type": "code",
   "execution_count": 31,
   "metadata": {},
   "outputs": [],
   "source": [
    "# Flatten 'artist_ids' and 'artist_names' to strings\n",
    "track_data_df['artist_ids'] = track_data_df['artist_ids'].apply(lambda x: ', '.join(x))\n",
    "track_data_df['artist_names'] = track_data_df['artist_names'].apply(lambda x: ', '.join(x))\n",
    "track_data_df['artist_genres'] = track_data_df['artist_genres'].apply(lambda x: ', '.join(x))\n",
    "\n",
    "# Optionally, drop columns you don't need\n",
    "# track_data_df = track_data_df.drop(columns=['type', 'id', 'track_href', 'analysis_url', 'time_signature'])\n"
   ]
  },
  {
   "cell_type": "markdown",
   "metadata": {},
   "source": [
    "Merge data into data frame."
   ]
  },
  {
   "cell_type": "code",
   "execution_count": 32,
   "metadata": {},
   "outputs": [],
   "source": [
    "# Merge the enriched track data back into the original DataFrame\n",
    "df_enriched = pd.merge(df, track_data_df, on='spotify_track_uri', how='left')\n"
   ]
  },
  {
   "cell_type": "markdown",
   "metadata": {},
   "source": [
    "Print results."
   ]
  },
  {
   "cell_type": "code",
   "execution_count": 33,
   "metadata": {},
   "outputs": [
    {
     "name": "stdout",
     "output_type": "stream",
     "text": [
      "                         ts    username platform  ms_played conn_country  \\\n",
      "0      2023-12-22T15:58:39Z  kingzenski      ios     109100           US   \n",
      "1      2023-12-22T15:58:40Z  kingzenski      ios       1010           US   \n",
      "2      2023-12-22T15:58:56Z  kingzenski      ios      16620           US   \n",
      "3      2023-12-22T15:59:00Z  kingzenski      ios       4050           US   \n",
      "4      2023-12-22T15:59:06Z  kingzenski      ios       5700           US   \n",
      "...                     ...         ...      ...        ...          ...   \n",
      "16909  2024-05-31T22:45:15Z  kingzenski      ios      34943           US   \n",
      "16910  2024-05-31T22:45:19Z  kingzenski      ios       3370           US   \n",
      "16911  2024-05-31T22:45:22Z  kingzenski      ios       3541           US   \n",
      "16912  2024-05-31T22:45:25Z  kingzenski      ios       2560           US   \n",
      "16913  2024-05-31T22:45:29Z  kingzenski      ios       3754           US   \n",
      "\n",
      "                           ip_addr_decrypted user_agent_decrypted  \\\n",
      "0                             172.58.125.201              unknown   \n",
      "1                             172.58.125.201              unknown   \n",
      "2                             172.58.125.201              unknown   \n",
      "3                             172.58.125.201              unknown   \n",
      "4                             172.58.125.201              unknown   \n",
      "...                                      ...                  ...   \n",
      "16909  2607:fb91:7c6:962c:352f:6466:ead:8521                 None   \n",
      "16910  2607:fb91:7c6:962c:352f:6466:ead:8521                 None   \n",
      "16911  2607:fb91:7c6:962c:352f:6466:ead:8521                 None   \n",
      "16912  2607:fb91:7c6:962c:352f:6466:ead:8521                 None   \n",
      "16913  2607:fb91:7c6:962c:352f:6466:ead:8521                 None   \n",
      "\n",
      "                 master_metadata_track_name master_metadata_album_artist_name  \\\n",
      "0      First Person Shooter (feat. J. Cole)                             Drake   \n",
      "1            Turn Yo Clic Up (feat. Future)                             Quavo   \n",
      "2                                      Okay                    French Montana   \n",
      "3                              Great Gatsby                          Rod Wave   \n",
      "4                             Gimme Da Lite                         Southside   \n",
      "...                                     ...                               ...   \n",
      "16909    Roll in Peace (feat. XXXTENTACION)                       Kodak Black   \n",
      "16910                        Jocelyn Flores                      XXXTENTACION   \n",
      "16911                            Time Today                      Moneybagg Yo   \n",
      "16912                     F.N.F. (Let's Go)                           Hitkidd   \n",
      "16913                              Ultimate                      Denzel Curry   \n",
      "\n",
      "      master_metadata_album_album_name  ... valence    tempo            type  \\\n",
      "0                     For All The Dogs  ...   0.245  163.997  audio_features   \n",
      "1       Turn Yo Clic Up (feat. Future)  ...   0.629  124.927  audio_features   \n",
      "2                                 Okay  ...   0.284  123.065  audio_features   \n",
      "3                            Nostalgia  ...   0.154  156.975  audio_features   \n",
      "4                        Gimme Da Lite  ...   0.406  144.014  audio_features   \n",
      "...                                ...  ...     ...      ...             ...   \n",
      "16909     Project Baby 2: All Grown Up  ...   0.363  140.053  audio_features   \n",
      "16910                               17  ...   0.437  134.021  audio_features   \n",
      "16911                 A Gangsta’s Pain  ...   0.327  136.994  audio_features   \n",
      "16912                F.N.F. (Let's Go)  ...   0.647  157.144  audio_features   \n",
      "16913                         Ultimate  ...   0.750  112.865  audio_features   \n",
      "\n",
      "                           id                                   uri  \\\n",
      "0      7aqfrAY2p9BUSiupwk3svU  spotify:track:7aqfrAY2p9BUSiupwk3svU   \n",
      "1      7LTCmtMpf3JPfBE8gAl64z  spotify:track:7LTCmtMpf3JPfBE8gAl64z   \n",
      "2      0VJXWgw0GWsprapvlpbuyu  spotify:track:0VJXWgw0GWsprapvlpbuyu   \n",
      "3      4M68xjcc42oxyphhzpOWXS  spotify:track:4M68xjcc42oxyphhzpOWXS   \n",
      "4      5VE6OSfJkMHyMpHaJzuUqn  spotify:track:5VE6OSfJkMHyMpHaJzuUqn   \n",
      "...                       ...                                   ...   \n",
      "16909  40oKW22ZNNkEdZLJTScaQI  spotify:track:40oKW22ZNNkEdZLJTScaQI   \n",
      "16910  7m9OqQk4RVRkw9JJdeAw96  spotify:track:7m9OqQk4RVRkw9JJdeAw96   \n",
      "16911  0YrKSfpvflYnLSBd4Jtu6J  spotify:track:0YrKSfpvflYnLSBd4Jtu6J   \n",
      "16912  1vrFJDrysqmsNAgyjBzx4f  spotify:track:1vrFJDrysqmsNAgyjBzx4f   \n",
      "16913  6R0GRYk2vs2XuBVemYK5YZ  spotify:track:6R0GRYk2vs2XuBVemYK5YZ   \n",
      "\n",
      "                                              track_href  \\\n",
      "0      https://api.spotify.com/v1/tracks/7aqfrAY2p9BU...   \n",
      "1      https://api.spotify.com/v1/tracks/7LTCmtMpf3JP...   \n",
      "2      https://api.spotify.com/v1/tracks/0VJXWgw0GWsp...   \n",
      "3      https://api.spotify.com/v1/tracks/4M68xjcc42ox...   \n",
      "4      https://api.spotify.com/v1/tracks/5VE6OSfJkMHy...   \n",
      "...                                                  ...   \n",
      "16909  https://api.spotify.com/v1/tracks/40oKW22ZNNkE...   \n",
      "16910  https://api.spotify.com/v1/tracks/7m9OqQk4RVRk...   \n",
      "16911  https://api.spotify.com/v1/tracks/0YrKSfpvflYn...   \n",
      "16912  https://api.spotify.com/v1/tracks/1vrFJDrysqms...   \n",
      "16913  https://api.spotify.com/v1/tracks/6R0GRYk2vs2X...   \n",
      "\n",
      "                                            analysis_url  duration_ms_y  \\\n",
      "0      https://api.spotify.com/v1/audio-analysis/7aqf...         247444   \n",
      "1      https://api.spotify.com/v1/audio-analysis/7LTC...         230836   \n",
      "2      https://api.spotify.com/v1/audio-analysis/0VJX...         192195   \n",
      "3      https://api.spotify.com/v1/audio-analysis/4M68...         146752   \n",
      "4      https://api.spotify.com/v1/audio-analysis/5VE6...         113333   \n",
      "...                                                  ...            ...   \n",
      "16909  https://api.spotify.com/v1/audio-analysis/40oK...         213132   \n",
      "16910  https://api.spotify.com/v1/audio-analysis/7m9O...         119133   \n",
      "16911  https://api.spotify.com/v1/audio-analysis/0YrK...         136900   \n",
      "16912  https://api.spotify.com/v1/audio-analysis/1vrF...         137580   \n",
      "16913  https://api.spotify.com/v1/audio-analysis/6R0G...         189974   \n",
      "\n",
      "       time_signature                                      artist_genres  \n",
      "0                   4  hip hop, rap, canadian hip hop, north carolina...  \n",
      "1                   4  hip hop, rap, southern hip hop, atl hip hop, m...  \n",
      "2                   4  hip hop, rap, southern hip hop, atl trap, atl ...  \n",
      "3                   4                                        florida rap  \n",
      "4                   4      rap, atl trap, atl hip hop, melodic rap, trap  \n",
      "...               ...                                                ...  \n",
      "16909               4  rap, emo rap, trap latino, florida drill, flor...  \n",
      "16910               4                        emo rap, miami hip hop, rap  \n",
      "16911               4  memphis hip hop, rap, tennessee hip hop, south...  \n",
      "16912               4                  southern hip hop, memphis hip hop  \n",
      "16913               4  drill, hip hop, rap, underground hip hop, dark...  \n",
      "\n",
      "[16914 rows x 48 columns]\n"
     ]
    }
   ],
   "source": [
    "print(df_enriched)"
   ]
  },
  {
   "cell_type": "markdown",
   "metadata": {},
   "source": [
    "Create output file."
   ]
  },
  {
   "cell_type": "code",
   "execution_count": 34,
   "metadata": {},
   "outputs": [
    {
     "name": "stdout",
     "output_type": "stream",
     "text": [
      "Enriched data saved to data/your_streaming_history_enriched.csv\n"
     ]
    }
   ],
   "source": [
    "# Replace with your desired output file path\n",
    "output_csv_filename = 'data/your_streaming_history_enriched.csv'\n",
    "\n",
    "# Save to CSV\n",
    "df_enriched.to_csv(output_csv_filename, index=False)\n",
    "\n",
    "print(f\"Enriched data saved to {output_csv_filename}\")\n"
   ]
  },
  {
   "cell_type": "code",
   "execution_count": 35,
   "metadata": {},
   "outputs": [
    {
     "name": "stdout",
     "output_type": "stream",
     "text": [
      "Processing file: Blalock_2023-2024.csv\n",
      "Extracted username: Blalock\n",
      "Processing file: Brezenski_2023-2024.csv\n",
      "Extracted username: Brezenski\n"
     ]
    },
    {
     "name": "stderr",
     "output_type": "stream",
     "text": [
      "C:\\Users\\C25Julia.Razzino\\AppData\\Local\\Temp\\ipykernel_21608\\3167703484.py:23: DtypeWarning: Columns (6) have mixed types. Specify dtype option on import or set low_memory=False.\n",
      "  df_user = pd.read_csv(file)\n"
     ]
    },
    {
     "name": "stdout",
     "output_type": "stream",
     "text": [
      "Processing file: Kovalsky_2014-2020.csv\n",
      "Extracted username: Kovalsky\n",
      "Processing file: Razzino_2023-2024.csv\n",
      "Extracted username: Razzino\n"
     ]
    }
   ],
   "source": [
    "import pandas as pd\n",
    "import numpy as np\n",
    "import glob\n",
    "import os\n",
    "\n",
    "# Define the data directory\n",
    "data_dir = 'data/processed/'  # Replace with your actual directory path\n",
    "\n",
    "# Get a list of all CSV files\n",
    "csv_files = glob.glob(os.path.join(data_dir, '*.csv'))\n",
    "\n",
    "# Initialize a list to hold data from each user\n",
    "user_data_list = []\n",
    "\n",
    "for file in csv_files:\n",
    "    # Extract the username from the filename\n",
    "    filename = os.path.basename(file)\n",
    "    name_part = os.path.splitext(filename)[0]\n",
    "    name_parts = name_part.split('_')\n",
    "    username = '_'.join(name_parts[:-1])  # Joins all parts except the last one (assuming date is last)\n",
    "    \n",
    "    # Read the CSV file\n",
    "    df_user = pd.read_csv(file)\n",
    "    \n",
    "    # Add the username column\n",
    "    df_user['username'] = username\n",
    "    \n",
    "    # Debugging: Print out the filename and extracted username\n",
    "    print(f'Processing file: {filename}')\n",
    "    print(f'Extracted username: {username}')\n",
    "    \n",
    "    # Append to the list\n",
    "    user_data_list.append(df_user)\n",
    "\n",
    "# Combine all user data into a single DataFrame\n",
    "df = pd.concat(user_data_list, ignore_index=True)\n",
    "\n",
    "# Proceed with the rest of your data processing...\n",
    "assert 'username' in df.columns, \"'username' column is missing in df\"\n"
   ]
  },
  {
   "cell_type": "code",
   "execution_count": 36,
   "metadata": {},
   "outputs": [
    {
     "name": "stdout",
     "output_type": "stream",
     "text": [
      "ts                                       0\n",
      "username                                 0\n",
      "platform                                 0\n",
      "ms_played                                0\n",
      "conn_country                             0\n",
      "ip_addr_decrypted                     1777\n",
      "user_agent_decrypted                 10977\n",
      "master_metadata_track_name               0\n",
      "master_metadata_album_artist_name        0\n",
      "master_metadata_album_album_name         0\n",
      "spotify_track_uri                        0\n",
      "episode_name                         58125\n",
      "episode_show_name                    58125\n",
      "spotify_episode_uri                  58125\n",
      "reason_start                            22\n",
      "reason_end                            1793\n",
      "shuffle                                  0\n",
      "skipped                               3796\n",
      "offline                                  0\n",
      "offline_timestamp                        0\n",
      "incognito_mode                           0\n",
      "track_name                             158\n",
      "album_name                             158\n",
      "album_release_date                       0\n",
      "track_popularity                         0\n",
      "duration_ms_x                            0\n",
      "explicit                                 0\n",
      "artist_ids                               0\n",
      "artist_names                           158\n",
      "danceability                             2\n",
      "energy                                   2\n",
      "key                                      2\n",
      "loudness                                 2\n",
      "mode                                     2\n",
      "speechiness                              2\n",
      "acousticness                             2\n",
      "instrumentalness                         2\n",
      "liveness                                 2\n",
      "valence                                  2\n",
      "tempo                                    2\n",
      "type                                     2\n",
      "id                                       2\n",
      "uri                                      2\n",
      "track_href                               2\n",
      "analysis_url                             2\n",
      "duration_ms_y                            2\n",
      "time_signature                           2\n",
      "artist_genres                         4603\n",
      "dtype: int64\n"
     ]
    }
   ],
   "source": [
    "# Check for missing values\n",
    "print(df.isnull().sum())\n",
    "\n",
    "# Decide on a strategy: drop or impute missing values\n",
    "#df = df.dropna(subset=['essential_column1', 'essential_column2'])  # Replace with actual column names\n",
    "\n",
    "df = df.drop_duplicates()\n",
    "\n",
    "irrelevant_columns = ['ts', 'platform', 'conn_country', 'ip_addr_decrypted', 'user_agent_decrypted',\n",
    "                      'spotify_track_uri', 'episode_name', 'episode_show_name', 'spotify_episode_uri',\n",
    "                      'reason_start', 'reason_end', 'offline_timestamp', 'track_href', 'analysis_url',\n",
    "                      'uri', 'id', 'track_name', 'album_name', 'album_release_date', 'duration_ms_y',\n",
    "                      'type', 'master_metadata_track_name', 'master_metadata_album_artist_name',\n",
    "                      'master_metadata_album_album_name']\n",
    "df = df.drop(columns=irrelevant_columns, errors='ignore')  # Use errors='ignore' in case some columns are missing"
   ]
  },
  {
   "cell_type": "code",
   "execution_count": 37,
   "metadata": {},
   "outputs": [
    {
     "name": "stdout",
     "output_type": "stream",
     "text": [
      "'username' in genre_dummies columns: True\n",
      "Columns in genre_dummies: ['username', '2-step', '21st century classical', '5th gen k-pop', '5th wave emo', 'a cappella', 'abstract', 'abstract beats', 'abstract hip hop', 'acid rock', 'acid trance', 'acousmatic', 'acoustic blues', 'acoustic cover', 'acoustic guitar cover', 'acoustic pop', 'acoustic punk', 'action rock', 'adoracao', 'adult standards', 'aesthetic rap', 'african rock', 'african-american classical', 'afro drill', 'afro r&b', 'afro soul', 'afrobeats', 'afrofuturism', 'afropop', 'afroswing', 'alabama indie', 'alabama rap', 'alaska indie', 'albanian pop', 'alberta country', 'album rock', 'albuquerque indie', 'alt z', 'alt-idol', 'alte', 'alternative americana', 'alternative ccm', 'alternative country', 'alternative dance', 'alternative emo', 'alternative hip hop', 'alternative metal', 'alternative pop rock', 'alternative r&b', 'alternative rock', 'alternative roots rock', 'ambeat', 'ambient', 'ambient country', 'ambient folk', 'ambient guitar', 'ambient pop', 'ambient post-rock', 'ambient worship', 'american 21st century classical', 'american choir', 'american classical piano', 'american contemporary classical', 'american folk revival', 'american metalcore', 'american modern classical', 'american orchestra', 'american post-rock', 'american primitive', 'american romanticism', 'anarcho-punk', 'anime', 'anime cv', 'anime drill', 'anime latino', 'anime lo-fi', 'anime phonk', 'anime rap', 'anime rock', 'anime score', 'anthem emo', 'anthem worship', 'anti-folk', 'antiviral pop', 'apostolic worship', 'appalachian folk', 'arab electronic', 'arab pop', 'argentine ambient', 'argentine hip hop', 'arkansas country', 'arkansas hip hop', 'art pop', 'art punk', 'art rock', 'asbury park indie', 'asian american hip hop', 'athens indie', 'atl drill', 'atl hip hop', 'atl trap', 'atlanta bass', 'atlanta indie', 'atlanta metal', 'atlanta punk', 'atmosphere', 'atmospheric post-rock', 'aussietronica', 'austin metal', 'austindie', 'australian alternative pop', 'australian alternative rock', \"australian children's music\", 'australian classical', 'australian comedy', 'australian dance', 'australian electropop', 'australian garage punk', 'australian hip hop', 'australian house', 'australian indie', 'australian indie folk', 'australian indie rock', 'australian metal', 'australian metalcore', 'australian pop', 'australian post-hardcore', 'australian post-rock', 'australian psych', 'australian rock', 'austrian classical piano', 'austrian dnb', 'austrian orchestra', 'austrian pop', 'avant-garde', 'avant-garde jazz', 'azonto', 'azontobeats', 'bachata', 'bachata dominicana', 'background music', 'bahamian pop', 'bakersfield sound', 'balearic', 'balkan beats', 'balkan brass', 'ballroom', 'baltic classical', 'banda', 'banjo', 'baptist gospel', 'barbadian pop', 'bardcore', 'barockinterpreten', 'baroque', 'baroque brass', 'baroque cello', 'baroque ensemble', 'baroque pop', 'baroque violin', 'bases de freestyle', 'bass house', 'bass music', 'bass trap', 'baton rouge rap', 'battle rap', 'bay area indie', 'bboy', 'bc underground hip hop', 'beatlesque', 'bebop', 'bedroom pop', 'bedroom r&b', 'bedroom soul', 'belarusian indie', 'belgian dance', 'belgian edm', 'belgian jazz', 'belgian pop', 'belgian rock', 'belgian singer-songwriter', 'bemani', 'bergen indie', 'bible', 'big band', 'big room', 'binaural', 'birmingham grime', 'birmingham hip hop', 'birmingham metal', 'bitpop', 'black americana', 'black comedy', 'black metal', 'blaskapelle', 'blasmusik', 'bluegrass', 'bluegrass gospel', 'blues', 'blues rock', 'boogaloo', 'boogie-woogie', 'boom bap', 'bossa nova', 'bossbeat', 'bosstown sound', 'boston folk', 'boston hip hop', 'boston indie', 'boston metal', 'boston punk', 'boston rock', 'bounce', 'bow pop', 'boy band', 'brain waves', 'braindance', 'brass band', 'brass ensemble', 'brass quintet', 'brazilian classical', 'brazilian classical piano', 'brazilian edm', 'brazilian gospel', 'breakbeat', 'brighton indie', 'brill building pop', 'brisbane indie', 'bristol electronic', 'british alternative rock', 'british blues', 'british choir', 'british classical piano', 'british comedy', 'british contemporary classical', 'british dance band', 'british indie rock', 'british invasion', 'british modern classical', 'british orchestra', 'british singer-songwriter', 'british soul', 'british soundtrack', 'britpop', 'britpop revival', 'broadway', 'bronx drill', 'bronx hip hop', 'brooklyn drill', 'brooklyn indie', 'brostep', 'brutal death metal', 'bubblegrunge', 'bubblegum bass', 'bubblegum dance', 'bubblegum pop', 'buffalo hip hop', 'cajun', 'cali rap', 'calming instrumental', 'calypso', 'canadian americana', 'canadian ccm', 'canadian classical', 'canadian classical piano', 'canadian contemporary country', 'canadian contemporary r&b', 'canadian country', 'canadian electronic', 'canadian electropop', 'canadian folk', 'canadian garage rock', 'canadian hardcore', 'canadian hip hop', 'canadian indie', 'canadian indie rock', 'canadian latin', 'canadian metal', 'canadian modern jazz', 'canadian pop', 'canadian pop punk', 'canadian post-hardcore', 'canadian post-rock', 'canadian punk', 'canadian rock', 'canadian shoegaze', 'canadian singer-songwriter', 'canadian soundtrack', 'canadian trap', 'candy pop', 'cantautor', 'cantautora mexicana', 'canzone napoletana', 'cape town indie', 'carnatic', 'carnatic vocal', 'cartoon', 'cascadia psych', 'caucasian classical', 'caucasian classical piano', 'ccm', 'cedm', 'cello', 'cello ensemble', 'celtic', 'celtic punk', 'celtic rock', 'cha-cha-cha', 'chain punk', 'chamber choir', 'chamber ensemble', 'chamber folk', 'chamber orchestra', 'chamber pop', 'chamber psych', 'channel islands indie', 'channel pop', 'charanga', 'charlottesville indie', 'chicago bop', 'chicago drill', 'chicago hardcore', 'chicago indie', 'chicago pop punk', 'chicago punk', 'chicago rap', 'chicago soul', 'chicano rap', \"children's choir\", \"children's folk\", \"children's music\", 'chill abstract hip hop', 'chill beats', 'chill breakcore', 'chill dream pop', 'chill guitar', 'chill house', 'chill phonk', 'chill pop', 'chill r&b', 'chillstep', 'chillwave', 'chinese classical performance', 'chinese classical piano', 'chinese electronic', 'chinese electropop', 'chinese jazz', 'chinese r&b', 'chiptune', 'chopped and screwed', 'choral', 'christelijk', 'christian afrobeat', 'christian alternative rock', 'christian dance', 'christian hip hop', 'christian indie', 'christian indie folk', 'christian lo-fi', 'christian metal', 'christian metalcore', 'christian music', 'christian pop', 'christian power metal', 'christian punk', 'christian rock', 'christian trap', 'christian uplift', 'christmas instrumental', 'christmas product', 'cincinnati indie', 'cinematic post-rock', 'classic canadian rock', 'classic city pop', 'classic country pop', 'classic dubstep', 'classic girl group', 'classic j-pop', 'classic oklahoma country', 'classic praise', 'classic rock', 'classic soul', 'classic soundtrack', 'classic swedish pop', 'classic texas country', 'classic uk pop', 'classical', 'classical baritone', 'classical cello', 'classical clarinet', 'classical era', 'classical flute', 'classical guitar', 'classical guitar quartet', 'classical horn', 'classical jazz fusion', 'classical mezzo-soprano', 'classical oboe', 'classical performance', 'classical piano', 'classical piano trio', 'classical saxophone', 'classical soprano', 'classical tenor', 'classical trombone', 'classical trumpet', 'classify', 'cleveland indie', 'cloud rap', 'collage pop', 'college a cappella', 'college marching band', 'colombian indie', 'colombian pop', 'color noise', 'columbus ohio indie', 'comedienne', 'comedy', 'comedy rap', 'comedy rock', 'comic', 'comic metal', 'complextro', 'compositional ambient', 'concert band', 'connecticut indie', 'conscious hip hop', 'contemporary choir', 'contemporary classical', 'contemporary country', 'contemporary gospel', 'contemporary jazz', 'contemporary post-bop', 'contemporary r&b', 'contemporary vocal jazz', 'cool jazz', 'corrido', 'corridos tumbados', 'cosmic american', 'country', 'country boogie', 'country dawn', 'country gospel', 'country pop', 'country rap', 'country road', 'country rock', 'countrygaze', 'coverchill', 'covertronica', 'cowboy western', 'crank wave', 'crunk', 'cuatro venezolano', 'cuban rumba', 'cubaton', 'czech classical', 'dalarna indie', 'dallas indie', 'dance pop', 'dance rock', 'dance-punk', 'dancefloor dnb', 'dancehall', 'dancehall queen', 'danish electronic', 'danish metal', 'danish pop', 'danish rock', 'dariacore', 'dark cabaret', 'dark clubbing', 'dark jazz', 'dark pop', 'dark r&b', 'dark trap', 'darkstep', 'darksynth', 'dc indie', 'death metal', 'deathcore', 'deathgrass', 'deathgrind', 'deathstep', 'deconstructed club', 'deep active rock', 'deep adult standards', 'deep big room', 'deep ccm', 'deep christian rock', 'deep comedy', 'deep dance pop', 'deep disco house', 'deep euro house', 'deep groove house', 'deep house', 'deep latin alternative', 'deep melodic metalcore', 'deep metalcore', 'deep minimal techno', 'deep new americana', 'deep pop edm', 'deep r&b', 'deep soundtrack', 'deep talent show', 'deep tropical house', 'deep underground hip hop', 'deep uplifting trance', 'dembow', 'dembow dominicano', 'derry indie', 'desert blues', 'desi hip hop', 'desi pop', 'detroit hip hop', 'detroit rock', 'detroit trap', 'devon indie', 'dfw rap', 'dirty south rap', 'disco', 'disco house', 'diva house', 'dixieland', 'diy emo', 'djent', 'doo-wop', 'doomgaze', 'doujin', 'downtempo', 'dream pop', 'dreamo', 'drift', 'drift phonk', 'drill', 'drone', 'drone folk', 'drone metal', 'drum and bass', 'drumless hip hop', 'dubstep', 'duluth indie', 'dutch dnb', 'dutch edm', 'dutch house', 'dutch pop', 'dutch rock', 'dutch tech house', 'dutch trance', 'early american folk', 'early avant garde', 'early modern classical', 'early music', 'early music choir', 'early music ensemble', 'early romantic era', 'early synthpop', 'early us punk', 'east coast hip hop', 'east coast reggae', 'easy listening', 'easycore', 'eau claire indie', 'ecm-style jazz', 'ectofolk', 'edm', 'edmonton indie', 'egyptian pop', 'el paso indie', 'electra', 'electric bass', 'electric blues', 'electro', 'electro house', 'electro jazz', 'electro latino', 'electro swing', 'electro trash', 'electro-pop francais', 'electroclash', 'electronic djent', 'electronic rock', 'electronic trap', 'electronica', 'electronicore', 'electropop', 'electropowerpop', 'emo', 'emo rap', 'english baroque', 'english indie rock', 'environmental', 'epicore', 'escape room', 'estonian pop', 'etherpop', 'euphoric hardstyle', 'eurodance', 'europop', 'exotica', 'experimental', 'experimental ambient', 'experimental bass', 'experimental club', 'experimental guitar', 'experimental pop', 'experimental psych', 'experimental r&b', 'experimental rock', 'experimental vocal', 'fake', 'fantasy', 'fictitious orchestra', 'fidget house', 'fife and drum', 'filmi', 'filter house', 'filthstep', 'finnish alternative rock', 'finnish classical', 'finnish contemporary classical', 'finnish death metal', 'finnish edm', 'finnish hard rock', 'finnish heavy metal', 'finnish melodeath', 'finnish metal', 'finnish pop', 'finnish power metal', 'flamenco urbano', 'float house', 'florida drill', 'florida rap', 'flute rock', 'focus', 'folk', 'folk metal', 'folk punk', 'folk rock', 'folk-pop', 'folktronica', 'footwork', 'fort worth indie', 'fourth world', 'freak folk', 'free jazz', 'french baroque', 'french classical piano', 'french indietronica', 'french movie tunes', 'french opera', 'french orchestra', 'french rock', 'french romanticism', 'french shoegaze', 'french soundtrack', 'french synthpop', 'french tech house', 'french techno', 'french worship', 'funk', 'funk 150 bpm', 'funk carioca', 'funk das antigas', 'funk metal', 'funk pop', 'funk rj', 'funk rock', 'funky house', 'future bass', 'future funk', 'future garage', 'future house', 'future rock', 'futuristic swag', 'g funk', 'g-house', 'gabber', 'gainesville indie', 'galante era', 'game mood', 'gaming dubstep', 'gaming edm', 'gangster rap', 'garage house', 'garage rock', 'garage rock revival', 'gauze pop', 'gen z singer-songwriter', 'georgian pop', 'german alternative rap', 'german baroque', 'german ccm', 'german choir', 'german classical piano', 'german dance', 'german drill', 'german hip hop', 'german house', 'german metal', 'german metalcore', 'german opera', 'german orchestra', 'german pop', 'german pop rock', 'german post-hardcore', 'german power metal', 'german romanticism', 'german soundtrack', 'german techno', 'german worship', 'ghanaian alternative', 'ghanaian gospel', 'ghanaian hip hop', 'girl group', 'glam metal', 'glam punk', 'glam rock', 'glitch', 'glitch hop', 'glitchcore', 'golden age hip hop', 'gospel', 'gospel drill', 'gospel r&b', 'gospel rap', 'gospel reggae', 'gothenburg indie', 'gothenburg metal', 'gothic alternative', 'gothic metal', 'gothic symphonic metal', 'grave wave', 'gregorian chant', 'gregorian dance', 'grime', 'griot', 'groove metal', 'grunge', 'guitarra clasica', 'gym phonk', 'gymcore', 'gypsy punk', 'halftime dnb', 'halifax indie', 'hamilton on indie', 'hands up', 'hard alternative', 'hard bop', 'hard rock', 'hardcore', 'hardcore hip hop', 'hardcore punk', 'harlem hip hop', 'harlem renaissance', 'harmonica jazz', 'harpsichord', 'hawaiian hip hop', 'healing hz', 'heartland rock', 'heavy alternative', 'hel', 'hi-nrg', 'hindi hip hop', 'hindi indie', 'hindi worship', 'hip hop', 'hip house', 'hip pop', 'historic classical performance', 'historic orchestral performance', 'historical keyboard', 'historically informed performance', 'hollywood', 'honky tonk', 'hopebeat', 'house', 'houston rap', 'hula', 'hungarian choir', 'hungarian classical performance', 'hungarian classical piano', 'hyper-rock', 'hyperpop', 'hyperpop francais', 'hypertechno', 'hyphy', 'hypnagogic pop', 'icelandic classical', 'icelandic experimental', 'icelandic indie', 'icelandic pop', 'icelandic rock', 'icelandic singer-songwriter', 'idol', 'idol rock', 'impressionism', 'indian classical', 'indian edm', 'indian underground rap', 'indiana hip hop', 'indiana indie', 'indie anthem-folk', 'indie dream pop', 'indie electropop', 'indie folk', 'indie fuzzpop', 'indie game soundtrack', 'indie garage rock', 'indie hip hop', 'indie pop', 'indie pop rap', 'indie poptimism', 'indie punk', 'indie quebecois', 'indie r&b', 'indie rock', 'indie rock italiano', 'indie rockism', 'indie singer-songwriter', 'indie soul', 'indie surf', 'indiecoustica', 'indietronica', 'indonesian hip hop', 'indonesian pop', 'industrial metal', 'industrial rock', 'indy indie', 'instrumental acoustic guitar', 'instrumental funk', 'instrumental grime', 'instrumental hip hop', 'instrumental math rock', 'instrumental post-rock', 'instrumental progressive metal', 'instrumental rock', 'instrumental soul', 'instrumental worship', 'intelligent dance music', 'irish classical', 'irish folk', 'irish indie rock', 'irish pop', 'irish post-punk', 'irish pub song', 'irish rock', 'irish singer-songwriter', 'israeli classical piano', 'israeli folk', 'israeli pop', 'israelite hip hop', 'italian adult pop', 'italian alternative', 'italian baroque', 'italian baroque ensemble', 'italian classical piano', 'italian opera', 'italian orchestra', 'italian pop', 'italian romanticism', 'italian soundtrack', 'italian techno', 'italian tenor', 'italo dance', 'j-acoustic', 'j-ambient', 'j-core', 'j-division', 'j-idol', 'j-indie', 'j-metal', 'j-pixie', 'j-pop', 'j-pop boy group', 'j-pop girl group', 'j-poprock', 'j-rap', 'j-reggae', 'j-rock', 'jam band', 'jamaican dancehall', 'jangle pop', 'japanese alternative pop', 'japanese alternative rock', 'japanese boom bap', 'japanese chill rap', 'japanese classical', 'japanese drill', 'japanese edm', 'japanese electropop', 'japanese emo', 'japanese garage rock', 'japanese girl punk', 'japanese heavy metal', 'japanese indie rock', 'japanese math rock', 'japanese melodic hardcore', 'japanese melodic punk', 'japanese metalcore', 'japanese piano', 'japanese pop punk', 'japanese pop rap', 'japanese post-hardcore', 'japanese post-rock', 'japanese power metal', 'japanese punk rock', 'japanese r&b', 'japanese screamo', 'japanese singer-songwriter', 'japanese ska', 'japanese soul', 'japanese soundtrack', 'japanese teen pop', 'japanese trap', 'japanese vgm', 'japanese vtuber', 'jawaiian', 'jazz', 'jazz blues', 'jazz boom bap', 'jazz clarinet', 'jazz cubano', 'jazz double bass', 'jazz drums', 'jazz funk', 'jazz fusion', 'jazz guitar', 'jazz harp', 'jazz house', 'jazz orchestra', 'jazz piano', 'jazz pop', 'jazz quartet', 'jazz rock', 'jazz saxophone', 'jazz trio', 'jazz trombone', 'jazz trumpet', 'jazz violin', 'jazz worship', 'jersey club', 'jesus movement', 'jordanian pop', 'josei rap', 'jump blues', 'jumpstyle', 'k-indie', 'k-pop', 'k-pop boy group', 'k-pop girl group', 'k-rap', 'kansai indie', 'kansas city hip hop', 'kansas indie', 'kawaii edm', 'kawaii future bass', 'kawaii metal', 'kayokyoku', 'kelowna bc indie', 'kentucky hip hop', 'kentucky indie', 'kentucky roots', 'kenyan drill', 'khmer', 'kids dance party', 'kids hip hop', 'kindie rock', 'kingston on indie', 'korean classical performance', 'korean electronic', 'korean instrumental', 'korean ost', 'korean pop', 'korean r&b', 'korean singer-songwriter', 'korean trap', 'krushclub', 'krushfunk', 'kwaito', 'la indie', 'la pop', 'laboratorio', 'late romantic era', 'latin alternative', 'latin arena pop', 'latin christian', 'latin classical', 'latin hip hop', 'latin jazz', 'latin pop', 'latin rock', 'latin soundtrack', 'latin talent show', 'latin viral pop', 'latin worship', 'latintronica', 'lds', 'lds instrumental', 'lds youth', 'lebanese pop', 'lexington ky indie', 'lgbtq+ hip hop', 'light music', 'lilith', 'liquid funk', 'lithuanian electronic', 'little rock indie', 'liverpool indie', 'livetronica', 'lldm', 'lo-fi', 'lo-fi chill', 'lo-fi latino', 'london rap', 'long island punk', 'louisiana blues', 'louisville indie', 'lounge', 'lullaby', 'madrigal', 'maga rap', 'mahraganat', 'maine hip hop', 'maine indie', 'mainland chinese pop', 'mambo', 'mambo chileno', \"man's orchestra\", 'manchester hip hop', 'manchester indie', 'mandolin', 'mandopop', 'manitoba indie', 'marching band', 'mariachi', 'math rock', 'mathcore', 'mbalax', 'medieval', 'meditation', 'melancholia', 'melbourne bounce', 'melbourne bounce international', 'melbourne punk', 'mellow gold', 'melodic death metal', 'melodic drill', 'melodic dubstep', 'melodic groove metal', 'melodic hardcore', 'melodic house', 'melodic metal', 'melodic metalcore', 'melodic rap', 'melodic thrash', 'melodipop', 'meme', 'meme rap', 'memphis blues', 'memphis hip hop', 'memphis soul', 'men chika', 'merengue', 'merengue tipico', 'merseybeat', 'messianic praise', 'metal', 'metal cover', 'metal guitar', 'metalcore', 'metropopolis', 'mexican classical', 'mexican metal', 'mexican pop', 'mexican rock', 'miami bass', 'miami hip hop', 'miami indie', 'michigan folk', 'michigan indie', 'middle earth', 'midwest americana', 'midwest emo', 'midwest shoegaze', 'military band', 'military cadence', 'military rap', 'minimal dnb', 'minimal tech house', 'minimalism', 'minneapolis sound', 'minnesota hip hop', 'mississippi hip hop', 'mississippi indie', 'modern alternative pop', 'modern alternative rock', 'modern big band', 'modern blues', 'modern blues rock', 'modern cello', 'modern chamber music', 'modern country pop', 'modern country rock', 'modern dream pop', 'modern folk rock', 'modern funk', 'modern hard rock', 'modern hardcore', 'modern indie folk', 'modern indie pop', 'modern j-rock', 'modern jazz piano', 'modern jazz trio', 'modern jungle', 'modern melodic hardcore', 'modern old-time', 'modern power pop', 'modern reggae', 'modern rock', 'modern salsa', 'modern ska punk', 'modern southern rock', 'modern swing', 'modern uplift', 'moldovan pop', 'montana roots', 'monterrey indie', 'montreal indie', 'moog', 'moombahton', 'motown', 'movie tunes', 'multidisciplinary', 'musica canaria', 'musica chihuahuense', 'musica instrumental cristiana', 'musica mexicana', 'musica nicaraguense', 'musica per bambini', 'musica tradicional cubana', 'musical advocacy', 'musique militaire', 'musique nigerienne', 'musique peule', 'naija worship', 'nantes indie', 'nashville americana', 'nashville hip hop', 'nashville indie', 'nashville singer-songwriter', 'nashville sound', 'native american contemporary', 'native american hip hop', 'native american traditional', 'neo classical metal', 'neo mellow', 'neo r&b', 'neo soul', 'neo-classical', 'neo-psychedelic', 'neo-singer-songwriter', 'neo-synthpop', 'neo-traditional bluegrass', 'neo-traditional country', 'neoclassical darkwave', 'neoclassicism', 'neon pop punk', 'neoperreo', 'nerdcore', 'neurofunk', 'new age', 'new age piano', 'new americana', 'new brunswick indie', 'new comedy', 'new england americana', 'new england emo', 'new french touch', 'new jack swing', 'new jersey hardcore', 'new jersey indie', 'new jersey rap', 'new jersey underground rap', 'new orleans blues', 'new orleans funk', 'new orleans jazz', 'new orleans rap', 'new orleans soul', 'new rave', 'new romantic', 'new wave', 'new wave of glam metal', 'new wave pop', 'new weird america', 'new york drill', 'new york shoegaze', 'newcastle nsw indie', 'nigerian hip hop', 'nigerian pop', 'nightcore', 'nintendocore', 'noise pop', 'noise rock', 'nordic ambient', 'nordic classical piano', 'nordic contemporary classical', 'nordic folk metal', 'nordic house', 'nordic orchestra', 'nordic post-rock', 'nordic soundtrack', 'normal indie', 'norsk lovsang', 'norteno', 'north carolina emo', 'north carolina hip hop', 'north carolina indie', 'north carolina metal', 'north carolina roots', 'north dakota indie', 'north east england indie', 'northern irish indie', 'northern soul', 'norwegian black metal', 'norwegian classical', 'norwegian hip hop', 'norwegian house', 'norwegian indie', 'norwegian jazz', 'norwegian metal', 'norwegian pop', 'norwegian punk rock', 'norwegian rock', 'norwegian space disco', 'nottingham hip hop', 'nottingham indie', 'novelty', 'nu age', 'nu disco', 'nu gaze', 'nu jazz', 'nu metal', 'nu-metalcore', 'nwobhm', 'nyc indie rock', 'nyc pop', 'nyc rap', 'nyhc', 'nz christian', 'nz pop', 'oakland hip hop', 'oakland indie', 'ohio hip hop', 'okinawan folk', 'okinawan pop', 'oklahoma country', 'oktoberfest', 'old school atlanta hip hop', 'old school dancehall', 'old school hip hop', 'old school thrash', 'old west', 'old-time', 'olympia wa indie', 'ontario indie', 'opera', 'opera chorus', 'operatic pop', 'operetta', 'opm', 'orchestra', 'orchestral performance', 'orchestral soundtrack', 'orgcore', 'oriental metal', 'orlando indie', 'oshare kei', 'otacore', 'oth indie', 'ottawa indie', 'ottawa rap', 'outlaw country', 'outsider', 'oxford choir', 'p funk', 'pagode baiano', 'paisley underground', 'pakistani indie', 'palm desert scene', 'panamanian pop', 'panpipe', 'parody', 'pastoral', 'permanent wave', 'perreo', 'pet calming', 'philly drill', 'philly rap', 'philly soul', 'phoenix indie', 'phonk', 'pianissimo', 'piano blues', 'piano cover', 'piano rock', 'piano worship', 'pinoy hip hop', 'pirate', 'pittsburgh indie rock', 'pittsburgh rap', 'pixel', 'pixie', 'plugg', 'pluggnb', 'poetry', 'polca paraguaya', 'polish classical', 'polish classical piano', 'polish electronica', 'polish folk metal', 'polish metal', 'polish pop', 'polish viral pop', 'political hip hop', 'polyphony', 'pop', 'pop ambient', 'pop argentino', 'pop dance', 'pop edm', 'pop emo', 'pop flamenco', 'pop folk', 'pop house', 'pop nacional', 'pop peruano', 'pop punk', 'pop quebecois', 'pop r&b', 'pop rap', 'pop reggaeton', 'pop rock', 'pop soul', 'pop venezolano', 'pop violin', 'pop worship', 'popping', 'pops orchestra', 'popwave', 'portland hip hop', 'portland indie', 'portuguese rock', 'post-disco', 'post-grunge', 'post-hardcore', 'post-minimalism', 'post-post-hardcore', 'post-punk', 'post-rock', 'post-romantic era', 'post-screamo', 'post-teen pop', 'pov: indie', 'power metal', 'power pop', 'power-pop punk', 'praise', 'previa', 'progressive alternative', 'progressive bluegrass', 'progressive electro house', 'progressive groove metal', 'progressive house', 'progressive metal', 'progressive metalcore', 'progressive post-hardcore', 'progressive rock', 'progressive trance', 'proto-hyperpop', 'proto-metal', 'protopunk', 'psalms', 'psychedelic hip hop', 'psychedelic pop', 'psychedelic rock', 'psychedelic soul', 'psychedelic trance', 'puerto rican pop', 'puirt-a-beul', 'punk', 'punk blues', 'punk cover', 'purple sound', \"quartetto d'archi\", 'quebec indie', 'quebec punk', 'queens hip hop', 'queer country', 'quiet storm', 'r&b', 'r&b argentino', 'r&b en espanol', 'r&drill', 'raboday', 'radio symphony', 'rage rap', 'ramonescore', 'ranchera', 'rap', 'rap boricua', 'rap canario', 'rap catala', 'rap conscient', 'rap cristiano', 'rap dominicano', 'rap kreyol', 'rap latina', 'rap metal', 'rap metalcore', 'rap montrealais', 'rap rock', 'reading', 'reading indie', 'rebel blues', 'recorder', 'red dirt', 'redneck', 'reggae', 'reggae fusion', 'reggae rock', 'reggaeton', 'reggaeton chileno', 'reggaeton colombiano', 'reggaeton cristiano', 'reggaeton flow', 'reggaeton mexicano', 'regional mexicano femenil', 'relaxative', 'remix product', 'renaissance', 'reparto', 'retro soul', 'rhode island indie', 'rhode island rap', 'rhythm and blues', 'riddim dubstep', 'riot grrrl', 'rochester mn indie', 'rochester ny indie', 'rock', 'rock alternativo espanol', 'rock cristiano', 'rock drums', 'rock en espanol', 'rock independant francais', 'rock keyboard', 'rock-and-roll', 'rockabilly', 'romanian pop', 'roots reggae', 'roots rock', 'roots worship', 'rosary', 'russian choir', 'russian classical piano', 'russian edm', 'russian modern classical', 'russian orchestra', 'russian romanticism', 'russian trance', 'rva drill', 'sacramento hip hop', 'sacramento indie', 'sacred steel', 'sad lo-fi', 'sad rap', 'sad sierreno', 'salsa', 'salsa choke', 'salsa colombiana', 'salsa cubana', 'salsa international', 'salsa peruana', 'salsa puertorriquena', 'salsa urbana', 'salsa venezolana', 'salzburg indie', 'samba-jazz', 'sami', 'samurai trap', 'san antonio rap', 'san diego indie', 'san marcos tx indie', 'saskatchewan indie', 'saxophone house', 'scam rap', 'scandipop', 'scenecore', 'school choir', 'school ensemble', 'scorecore', 'scottish electronic', 'scottish hip hop', 'scottish indie', 'scottish rock', 'screamo', 'sda a cappella', 'seattle hip hop', 'seattle indie', 'second line', 'seiyu', 'sertanejo universitario', 'shanty', 'sheffield indie', 'shib', 'shibuya-kei', 'shimmer pop', 'shimmer psych', 'shiver pop', 'shoegaze', 'shojo', 'shonen', 'show tunes', 'shred', 'sierreno', 'sigilkore', 'sillycore', 'singaporean pop', 'singer-songwriter', 'singer-songwriter pop', 'ska', 'ska mexicano', 'ska punk', 'skate punk', 'sky room', 'slack-key guitar', 'slacker rock', 'slamming deathcore', 'slap house', 'slavic folk metal', 'slavic metal', 'slayer', 'slc indie', 'sleaze rock', 'sleep', 'slow game', 'slowcore', 'sludge metal', 'small room', 'smooth jazz', 'smooth saxophone', 'smooth soul', 'socal indie', 'socal pop punk', 'social media pop', 'soft rock', 'solo wave', 'sophisti-pop', 'soul', 'soul blues', 'soul flow', 'soul jazz', 'souldies', 'soulful house', 'sound', 'sound art', 'sound effects', 'soundtrack', 'south african gospel', 'south african jazz', 'south african pop', 'south african pop dance', 'south african rock', 'south asian metal', 'south carolina hip hop', 'south carolina indie', 'south carolina metal', 'south dakota indie', 'southampton indie', 'southern americana', 'southern gospel', 'southern hip hop', 'southern metal', 'southern rock', 'southern soul', 'sovietwave', 'spa', 'space age pop', 'space ambient', 'spacegrunge', 'spanish classical', 'spanish classical piano', 'spanish hip hop', 'spanish indie pop', 'spanish pop', 'spanish renaissance', 'spanish rock', 'spectra', 'sped up', 'speed metal', 'speed up brasileiro', 'speedrun', 'spirituals', 'springfield mo indie', 'st louis rap', 'steampunk', 'steel guitar', 'stl indie', 'stomp and flutter', 'stomp and holler', 'stomp pop', 'stoner metal', 'stoner rock', 'straight edge', 'street band', 'streichquartett', 'stride', 'string orchestra', 'string quartet', 'strut', 'stutter house', 'substep', 'sudanese hip hop', 'sudanese pop', 'sunshine pop', 'supergroup', 'surf punk', 'swamp blues', 'swamp pop', 'swamp rock', 'swancore', 'swedish alternative rock', 'swedish contemporary classical', 'swedish death metal', 'swedish electropop', 'swedish experimental', 'swedish idol pop', 'swedish indie folk', 'swedish indie pop', 'swedish melodeath', 'swedish metal', 'swedish metalcore', 'swedish pop', 'swedish power metal', 'swedish singer-songwriter', 'swedish soul', 'swedish synthpop', 'swedish tropical house', 'swing', 'swing revival', 'swiss indie', 'symfonicky orchestr', 'symphonic black metal', 'symphonic deathcore', 'symphonic metal', 'symphonic rock', 'synth funk', 'synth punk', 'synthesizer', 'synthpop', 'syro-aramaic chant', 't-pop', 'tagalog worship', 'taiwan hip hop', 'taiwan indie', 'taiwan pop', 'taiwan rock', 'talent show', 'talentkonkurrence', 'talentschau', 'tampa indie', 'tech house', 'technical death metal', 'teen pop', 'tejano', 'tempe indie', 'tennessee hip hop', 'texas blues', 'texas country', 'texas latin rap', 'texas metal', 'texas pop punk', 'texas punk', 'texasgaze', 'thai hip hop', 'thai trap', 'theme', 'thrash metal', 'tibetan hip hop', 'tibetan pop', 'timba', 'tin pan alley', 'tipico', 'torch song', 'toronto indie', 'toronto rap', 'touhou', 'traditional blues', 'traditional country', 'traditional folk', 'trance', 'trancecore', 'transpop', 'trap', 'trap argentino', 'trap boricua', 'trap catala', 'trap chileno', 'trap colombiano', 'trap cristiano', 'trap dominicano', 'trap latino', 'trap queen', 'trap soul', 'trap triste', 'trap venezolano', 'traprun', 'trip hop', 'trival', 'trop rock', 'tropical', 'tropical house', 'tuareg guitar', 'tulsa indie', 'turkish deep house', 'turkish edm', 'turntablism', 'twee pop', 'uk alternative hip hop', 'uk alternative pop', 'uk americana', 'uk christian rap', 'uk contemporary r&b', 'uk dance', 'uk dancehall', 'uk dnb', 'uk doom metal', 'uk drill', 'uk experimental electronic', 'uk funky', 'uk garage', 'uk hip hop', 'uk house', 'uk metalcore', 'uk pop', 'uk pop punk', 'uk post-punk', 'uk reggae', 'uk tech house', 'uk worship', 'ukg revival', 'ukrainian classical', 'ukrainian classical piano', 'ukrainian pop', 'ukulele', 'ukulele cover', 'underground hip hop', 'underground visual kei', 'university choir', 'uplifting trance', 'upstate ny rap', 'urban contemporary', 'urbano chileno', 'urbano espanol', 'urbano latino', 'urbano mexicano', 'utah indie', 'vallenato', 'vancouver indie', 'vancouver metal', 'vancouver punk', 'vapor pop', 'vapor soul', 'vapor twitch', 'vbs', 'vegas indie', 'venezuelan hip hop', 'venezuelan rock', 'veracruz indie', 'vgm remix', 'victoria bc indie', 'victorian britain', 'video game music', 'viking metal', 'vintage gospel', 'vintage hawaiian', 'vintage italian soundtrack', 'vintage jazz', 'viola', 'violin', 'viral pop', 'viral rap', 'viral trap', 'virginia hip hop', 'virginia indie', 'visual kei', 'vocal ensemble', 'vocal harmony group', 'vocal house', 'vocal jazz', 'vocal trance', 'vocaloid', 'vocaloid metal', 'vocaloid rock', 'volksmusik', 'volkstumliche musik', 'waiata mo tamariki', 'warm drone', 'washington indie', 'water', 'weirdcore', 'welsh indie', 'welsh metal', 'welsh rock', 'west coast rap', 'west end', 'west virginia indie', 'westcoast flow', 'western americana', 'western swing', 'white noise', 'wind ensemble', 'wind symphony', 'windsor on indie', \"women's music\", 'wonky', 'worcester ma indie', 'world', 'world worship', 'worship', 'wrestling', 'writing', 'wyoming indie', 'wyoming roots', 'yacht rock', 'yodeling', 'yogyakarta indie', 'york indie', 'zambian hip hop', 'zen', 'zillertal', 'zolo', 'zoomergaze', 'zurich indie', 'zydeco']\n",
      "'username' in user_keys columns: True\n",
      "DataFrame 'user_numerical_agg' columns: ['username', 'ms_played', 'skipped', 'shuffle']\n",
      "Number of rows in 'user_numerical_agg': 4\n",
      "DataFrame 'genre_dummies' columns: ['username', '2-step', '21st century classical', '5th gen k-pop', '5th wave emo', 'a cappella', 'abstract', 'abstract beats', 'abstract hip hop', 'acid rock', 'acid trance', 'acousmatic', 'acoustic blues', 'acoustic cover', 'acoustic guitar cover', 'acoustic pop', 'acoustic punk', 'action rock', 'adoracao', 'adult standards', 'aesthetic rap', 'african rock', 'african-american classical', 'afro drill', 'afro r&b', 'afro soul', 'afrobeats', 'afrofuturism', 'afropop', 'afroswing', 'alabama indie', 'alabama rap', 'alaska indie', 'albanian pop', 'alberta country', 'album rock', 'albuquerque indie', 'alt z', 'alt-idol', 'alte', 'alternative americana', 'alternative ccm', 'alternative country', 'alternative dance', 'alternative emo', 'alternative hip hop', 'alternative metal', 'alternative pop rock', 'alternative r&b', 'alternative rock', 'alternative roots rock', 'ambeat', 'ambient', 'ambient country', 'ambient folk', 'ambient guitar', 'ambient pop', 'ambient post-rock', 'ambient worship', 'american 21st century classical', 'american choir', 'american classical piano', 'american contemporary classical', 'american folk revival', 'american metalcore', 'american modern classical', 'american orchestra', 'american post-rock', 'american primitive', 'american romanticism', 'anarcho-punk', 'anime', 'anime cv', 'anime drill', 'anime latino', 'anime lo-fi', 'anime phonk', 'anime rap', 'anime rock', 'anime score', 'anthem emo', 'anthem worship', 'anti-folk', 'antiviral pop', 'apostolic worship', 'appalachian folk', 'arab electronic', 'arab pop', 'argentine ambient', 'argentine hip hop', 'arkansas country', 'arkansas hip hop', 'art pop', 'art punk', 'art rock', 'asbury park indie', 'asian american hip hop', 'athens indie', 'atl drill', 'atl hip hop', 'atl trap', 'atlanta bass', 'atlanta indie', 'atlanta metal', 'atlanta punk', 'atmosphere', 'atmospheric post-rock', 'aussietronica', 'austin metal', 'austindie', 'australian alternative pop', 'australian alternative rock', \"australian children's music\", 'australian classical', 'australian comedy', 'australian dance', 'australian electropop', 'australian garage punk', 'australian hip hop', 'australian house', 'australian indie', 'australian indie folk', 'australian indie rock', 'australian metal', 'australian metalcore', 'australian pop', 'australian post-hardcore', 'australian post-rock', 'australian psych', 'australian rock', 'austrian classical piano', 'austrian dnb', 'austrian orchestra', 'austrian pop', 'avant-garde', 'avant-garde jazz', 'azonto', 'azontobeats', 'bachata', 'bachata dominicana', 'background music', 'bahamian pop', 'bakersfield sound', 'balearic', 'balkan beats', 'balkan brass', 'ballroom', 'baltic classical', 'banda', 'banjo', 'baptist gospel', 'barbadian pop', 'bardcore', 'barockinterpreten', 'baroque', 'baroque brass', 'baroque cello', 'baroque ensemble', 'baroque pop', 'baroque violin', 'bases de freestyle', 'bass house', 'bass music', 'bass trap', 'baton rouge rap', 'battle rap', 'bay area indie', 'bboy', 'bc underground hip hop', 'beatlesque', 'bebop', 'bedroom pop', 'bedroom r&b', 'bedroom soul', 'belarusian indie', 'belgian dance', 'belgian edm', 'belgian jazz', 'belgian pop', 'belgian rock', 'belgian singer-songwriter', 'bemani', 'bergen indie', 'bible', 'big band', 'big room', 'binaural', 'birmingham grime', 'birmingham hip hop', 'birmingham metal', 'bitpop', 'black americana', 'black comedy', 'black metal', 'blaskapelle', 'blasmusik', 'bluegrass', 'bluegrass gospel', 'blues', 'blues rock', 'boogaloo', 'boogie-woogie', 'boom bap', 'bossa nova', 'bossbeat', 'bosstown sound', 'boston folk', 'boston hip hop', 'boston indie', 'boston metal', 'boston punk', 'boston rock', 'bounce', 'bow pop', 'boy band', 'brain waves', 'braindance', 'brass band', 'brass ensemble', 'brass quintet', 'brazilian classical', 'brazilian classical piano', 'brazilian edm', 'brazilian gospel', 'breakbeat', 'brighton indie', 'brill building pop', 'brisbane indie', 'bristol electronic', 'british alternative rock', 'british blues', 'british choir', 'british classical piano', 'british comedy', 'british contemporary classical', 'british dance band', 'british indie rock', 'british invasion', 'british modern classical', 'british orchestra', 'british singer-songwriter', 'british soul', 'british soundtrack', 'britpop', 'britpop revival', 'broadway', 'bronx drill', 'bronx hip hop', 'brooklyn drill', 'brooklyn indie', 'brostep', 'brutal death metal', 'bubblegrunge', 'bubblegum bass', 'bubblegum dance', 'bubblegum pop', 'buffalo hip hop', 'cajun', 'cali rap', 'calming instrumental', 'calypso', 'canadian americana', 'canadian ccm', 'canadian classical', 'canadian classical piano', 'canadian contemporary country', 'canadian contemporary r&b', 'canadian country', 'canadian electronic', 'canadian electropop', 'canadian folk', 'canadian garage rock', 'canadian hardcore', 'canadian hip hop', 'canadian indie', 'canadian indie rock', 'canadian latin', 'canadian metal', 'canadian modern jazz', 'canadian pop', 'canadian pop punk', 'canadian post-hardcore', 'canadian post-rock', 'canadian punk', 'canadian rock', 'canadian shoegaze', 'canadian singer-songwriter', 'canadian soundtrack', 'canadian trap', 'candy pop', 'cantautor', 'cantautora mexicana', 'canzone napoletana', 'cape town indie', 'carnatic', 'carnatic vocal', 'cartoon', 'cascadia psych', 'caucasian classical', 'caucasian classical piano', 'ccm', 'cedm', 'cello', 'cello ensemble', 'celtic', 'celtic punk', 'celtic rock', 'cha-cha-cha', 'chain punk', 'chamber choir', 'chamber ensemble', 'chamber folk', 'chamber orchestra', 'chamber pop', 'chamber psych', 'channel islands indie', 'channel pop', 'charanga', 'charlottesville indie', 'chicago bop', 'chicago drill', 'chicago hardcore', 'chicago indie', 'chicago pop punk', 'chicago punk', 'chicago rap', 'chicago soul', 'chicano rap', \"children's choir\", \"children's folk\", \"children's music\", 'chill abstract hip hop', 'chill beats', 'chill breakcore', 'chill dream pop', 'chill guitar', 'chill house', 'chill phonk', 'chill pop', 'chill r&b', 'chillstep', 'chillwave', 'chinese classical performance', 'chinese classical piano', 'chinese electronic', 'chinese electropop', 'chinese jazz', 'chinese r&b', 'chiptune', 'chopped and screwed', 'choral', 'christelijk', 'christian afrobeat', 'christian alternative rock', 'christian dance', 'christian hip hop', 'christian indie', 'christian indie folk', 'christian lo-fi', 'christian metal', 'christian metalcore', 'christian music', 'christian pop', 'christian power metal', 'christian punk', 'christian rock', 'christian trap', 'christian uplift', 'christmas instrumental', 'christmas product', 'cincinnati indie', 'cinematic post-rock', 'classic canadian rock', 'classic city pop', 'classic country pop', 'classic dubstep', 'classic girl group', 'classic j-pop', 'classic oklahoma country', 'classic praise', 'classic rock', 'classic soul', 'classic soundtrack', 'classic swedish pop', 'classic texas country', 'classic uk pop', 'classical', 'classical baritone', 'classical cello', 'classical clarinet', 'classical era', 'classical flute', 'classical guitar', 'classical guitar quartet', 'classical horn', 'classical jazz fusion', 'classical mezzo-soprano', 'classical oboe', 'classical performance', 'classical piano', 'classical piano trio', 'classical saxophone', 'classical soprano', 'classical tenor', 'classical trombone', 'classical trumpet', 'classify', 'cleveland indie', 'cloud rap', 'collage pop', 'college a cappella', 'college marching band', 'colombian indie', 'colombian pop', 'color noise', 'columbus ohio indie', 'comedienne', 'comedy', 'comedy rap', 'comedy rock', 'comic', 'comic metal', 'complextro', 'compositional ambient', 'concert band', 'connecticut indie', 'conscious hip hop', 'contemporary choir', 'contemporary classical', 'contemporary country', 'contemporary gospel', 'contemporary jazz', 'contemporary post-bop', 'contemporary r&b', 'contemporary vocal jazz', 'cool jazz', 'corrido', 'corridos tumbados', 'cosmic american', 'country', 'country boogie', 'country dawn', 'country gospel', 'country pop', 'country rap', 'country road', 'country rock', 'countrygaze', 'coverchill', 'covertronica', 'cowboy western', 'crank wave', 'crunk', 'cuatro venezolano', 'cuban rumba', 'cubaton', 'czech classical', 'dalarna indie', 'dallas indie', 'dance pop', 'dance rock', 'dance-punk', 'dancefloor dnb', 'dancehall', 'dancehall queen', 'danish electronic', 'danish metal', 'danish pop', 'danish rock', 'dariacore', 'dark cabaret', 'dark clubbing', 'dark jazz', 'dark pop', 'dark r&b', 'dark trap', 'darkstep', 'darksynth', 'dc indie', 'death metal', 'deathcore', 'deathgrass', 'deathgrind', 'deathstep', 'deconstructed club', 'deep active rock', 'deep adult standards', 'deep big room', 'deep ccm', 'deep christian rock', 'deep comedy', 'deep dance pop', 'deep disco house', 'deep euro house', 'deep groove house', 'deep house', 'deep latin alternative', 'deep melodic metalcore', 'deep metalcore', 'deep minimal techno', 'deep new americana', 'deep pop edm', 'deep r&b', 'deep soundtrack', 'deep talent show', 'deep tropical house', 'deep underground hip hop', 'deep uplifting trance', 'dembow', 'dembow dominicano', 'derry indie', 'desert blues', 'desi hip hop', 'desi pop', 'detroit hip hop', 'detroit rock', 'detroit trap', 'devon indie', 'dfw rap', 'dirty south rap', 'disco', 'disco house', 'diva house', 'dixieland', 'diy emo', 'djent', 'doo-wop', 'doomgaze', 'doujin', 'downtempo', 'dream pop', 'dreamo', 'drift', 'drift phonk', 'drill', 'drone', 'drone folk', 'drone metal', 'drum and bass', 'drumless hip hop', 'dubstep', 'duluth indie', 'dutch dnb', 'dutch edm', 'dutch house', 'dutch pop', 'dutch rock', 'dutch tech house', 'dutch trance', 'early american folk', 'early avant garde', 'early modern classical', 'early music', 'early music choir', 'early music ensemble', 'early romantic era', 'early synthpop', 'early us punk', 'east coast hip hop', 'east coast reggae', 'easy listening', 'easycore', 'eau claire indie', 'ecm-style jazz', 'ectofolk', 'edm', 'edmonton indie', 'egyptian pop', 'el paso indie', 'electra', 'electric bass', 'electric blues', 'electro', 'electro house', 'electro jazz', 'electro latino', 'electro swing', 'electro trash', 'electro-pop francais', 'electroclash', 'electronic djent', 'electronic rock', 'electronic trap', 'electronica', 'electronicore', 'electropop', 'electropowerpop', 'emo', 'emo rap', 'english baroque', 'english indie rock', 'environmental', 'epicore', 'escape room', 'estonian pop', 'etherpop', 'euphoric hardstyle', 'eurodance', 'europop', 'exotica', 'experimental', 'experimental ambient', 'experimental bass', 'experimental club', 'experimental guitar', 'experimental pop', 'experimental psych', 'experimental r&b', 'experimental rock', 'experimental vocal', 'fake', 'fantasy', 'fictitious orchestra', 'fidget house', 'fife and drum', 'filmi', 'filter house', 'filthstep', 'finnish alternative rock', 'finnish classical', 'finnish contemporary classical', 'finnish death metal', 'finnish edm', 'finnish hard rock', 'finnish heavy metal', 'finnish melodeath', 'finnish metal', 'finnish pop', 'finnish power metal', 'flamenco urbano', 'float house', 'florida drill', 'florida rap', 'flute rock', 'focus', 'folk', 'folk metal', 'folk punk', 'folk rock', 'folk-pop', 'folktronica', 'footwork', 'fort worth indie', 'fourth world', 'freak folk', 'free jazz', 'french baroque', 'french classical piano', 'french indietronica', 'french movie tunes', 'french opera', 'french orchestra', 'french rock', 'french romanticism', 'french shoegaze', 'french soundtrack', 'french synthpop', 'french tech house', 'french techno', 'french worship', 'funk', 'funk 150 bpm', 'funk carioca', 'funk das antigas', 'funk metal', 'funk pop', 'funk rj', 'funk rock', 'funky house', 'future bass', 'future funk', 'future garage', 'future house', 'future rock', 'futuristic swag', 'g funk', 'g-house', 'gabber', 'gainesville indie', 'galante era', 'game mood', 'gaming dubstep', 'gaming edm', 'gangster rap', 'garage house', 'garage rock', 'garage rock revival', 'gauze pop', 'gen z singer-songwriter', 'georgian pop', 'german alternative rap', 'german baroque', 'german ccm', 'german choir', 'german classical piano', 'german dance', 'german drill', 'german hip hop', 'german house', 'german metal', 'german metalcore', 'german opera', 'german orchestra', 'german pop', 'german pop rock', 'german post-hardcore', 'german power metal', 'german romanticism', 'german soundtrack', 'german techno', 'german worship', 'ghanaian alternative', 'ghanaian gospel', 'ghanaian hip hop', 'girl group', 'glam metal', 'glam punk', 'glam rock', 'glitch', 'glitch hop', 'glitchcore', 'golden age hip hop', 'gospel', 'gospel drill', 'gospel r&b', 'gospel rap', 'gospel reggae', 'gothenburg indie', 'gothenburg metal', 'gothic alternative', 'gothic metal', 'gothic symphonic metal', 'grave wave', 'gregorian chant', 'gregorian dance', 'grime', 'griot', 'groove metal', 'grunge', 'guitarra clasica', 'gym phonk', 'gymcore', 'gypsy punk', 'halftime dnb', 'halifax indie', 'hamilton on indie', 'hands up', 'hard alternative', 'hard bop', 'hard rock', 'hardcore', 'hardcore hip hop', 'hardcore punk', 'harlem hip hop', 'harlem renaissance', 'harmonica jazz', 'harpsichord', 'hawaiian hip hop', 'healing hz', 'heartland rock', 'heavy alternative', 'hel', 'hi-nrg', 'hindi hip hop', 'hindi indie', 'hindi worship', 'hip hop', 'hip house', 'hip pop', 'historic classical performance', 'historic orchestral performance', 'historical keyboard', 'historically informed performance', 'hollywood', 'honky tonk', 'hopebeat', 'house', 'houston rap', 'hula', 'hungarian choir', 'hungarian classical performance', 'hungarian classical piano', 'hyper-rock', 'hyperpop', 'hyperpop francais', 'hypertechno', 'hyphy', 'hypnagogic pop', 'icelandic classical', 'icelandic experimental', 'icelandic indie', 'icelandic pop', 'icelandic rock', 'icelandic singer-songwriter', 'idol', 'idol rock', 'impressionism', 'indian classical', 'indian edm', 'indian underground rap', 'indiana hip hop', 'indiana indie', 'indie anthem-folk', 'indie dream pop', 'indie electropop', 'indie folk', 'indie fuzzpop', 'indie game soundtrack', 'indie garage rock', 'indie hip hop', 'indie pop', 'indie pop rap', 'indie poptimism', 'indie punk', 'indie quebecois', 'indie r&b', 'indie rock', 'indie rock italiano', 'indie rockism', 'indie singer-songwriter', 'indie soul', 'indie surf', 'indiecoustica', 'indietronica', 'indonesian hip hop', 'indonesian pop', 'industrial metal', 'industrial rock', 'indy indie', 'instrumental acoustic guitar', 'instrumental funk', 'instrumental grime', 'instrumental hip hop', 'instrumental math rock', 'instrumental post-rock', 'instrumental progressive metal', 'instrumental rock', 'instrumental soul', 'instrumental worship', 'intelligent dance music', 'irish classical', 'irish folk', 'irish indie rock', 'irish pop', 'irish post-punk', 'irish pub song', 'irish rock', 'irish singer-songwriter', 'israeli classical piano', 'israeli folk', 'israeli pop', 'israelite hip hop', 'italian adult pop', 'italian alternative', 'italian baroque', 'italian baroque ensemble', 'italian classical piano', 'italian opera', 'italian orchestra', 'italian pop', 'italian romanticism', 'italian soundtrack', 'italian techno', 'italian tenor', 'italo dance', 'j-acoustic', 'j-ambient', 'j-core', 'j-division', 'j-idol', 'j-indie', 'j-metal', 'j-pixie', 'j-pop', 'j-pop boy group', 'j-pop girl group', 'j-poprock', 'j-rap', 'j-reggae', 'j-rock', 'jam band', 'jamaican dancehall', 'jangle pop', 'japanese alternative pop', 'japanese alternative rock', 'japanese boom bap', 'japanese chill rap', 'japanese classical', 'japanese drill', 'japanese edm', 'japanese electropop', 'japanese emo', 'japanese garage rock', 'japanese girl punk', 'japanese heavy metal', 'japanese indie rock', 'japanese math rock', 'japanese melodic hardcore', 'japanese melodic punk', 'japanese metalcore', 'japanese piano', 'japanese pop punk', 'japanese pop rap', 'japanese post-hardcore', 'japanese post-rock', 'japanese power metal', 'japanese punk rock', 'japanese r&b', 'japanese screamo', 'japanese singer-songwriter', 'japanese ska', 'japanese soul', 'japanese soundtrack', 'japanese teen pop', 'japanese trap', 'japanese vgm', 'japanese vtuber', 'jawaiian', 'jazz', 'jazz blues', 'jazz boom bap', 'jazz clarinet', 'jazz cubano', 'jazz double bass', 'jazz drums', 'jazz funk', 'jazz fusion', 'jazz guitar', 'jazz harp', 'jazz house', 'jazz orchestra', 'jazz piano', 'jazz pop', 'jazz quartet', 'jazz rock', 'jazz saxophone', 'jazz trio', 'jazz trombone', 'jazz trumpet', 'jazz violin', 'jazz worship', 'jersey club', 'jesus movement', 'jordanian pop', 'josei rap', 'jump blues', 'jumpstyle', 'k-indie', 'k-pop', 'k-pop boy group', 'k-pop girl group', 'k-rap', 'kansai indie', 'kansas city hip hop', 'kansas indie', 'kawaii edm', 'kawaii future bass', 'kawaii metal', 'kayokyoku', 'kelowna bc indie', 'kentucky hip hop', 'kentucky indie', 'kentucky roots', 'kenyan drill', 'khmer', 'kids dance party', 'kids hip hop', 'kindie rock', 'kingston on indie', 'korean classical performance', 'korean electronic', 'korean instrumental', 'korean ost', 'korean pop', 'korean r&b', 'korean singer-songwriter', 'korean trap', 'krushclub', 'krushfunk', 'kwaito', 'la indie', 'la pop', 'laboratorio', 'late romantic era', 'latin alternative', 'latin arena pop', 'latin christian', 'latin classical', 'latin hip hop', 'latin jazz', 'latin pop', 'latin rock', 'latin soundtrack', 'latin talent show', 'latin viral pop', 'latin worship', 'latintronica', 'lds', 'lds instrumental', 'lds youth', 'lebanese pop', 'lexington ky indie', 'lgbtq+ hip hop', 'light music', 'lilith', 'liquid funk', 'lithuanian electronic', 'little rock indie', 'liverpool indie', 'livetronica', 'lldm', 'lo-fi', 'lo-fi chill', 'lo-fi latino', 'london rap', 'long island punk', 'louisiana blues', 'louisville indie', 'lounge', 'lullaby', 'madrigal', 'maga rap', 'mahraganat', 'maine hip hop', 'maine indie', 'mainland chinese pop', 'mambo', 'mambo chileno', \"man's orchestra\", 'manchester hip hop', 'manchester indie', 'mandolin', 'mandopop', 'manitoba indie', 'marching band', 'mariachi', 'math rock', 'mathcore', 'mbalax', 'medieval', 'meditation', 'melancholia', 'melbourne bounce', 'melbourne bounce international', 'melbourne punk', 'mellow gold', 'melodic death metal', 'melodic drill', 'melodic dubstep', 'melodic groove metal', 'melodic hardcore', 'melodic house', 'melodic metal', 'melodic metalcore', 'melodic rap', 'melodic thrash', 'melodipop', 'meme', 'meme rap', 'memphis blues', 'memphis hip hop', 'memphis soul', 'men chika', 'merengue', 'merengue tipico', 'merseybeat', 'messianic praise', 'metal', 'metal cover', 'metal guitar', 'metalcore', 'metropopolis', 'mexican classical', 'mexican metal', 'mexican pop', 'mexican rock', 'miami bass', 'miami hip hop', 'miami indie', 'michigan folk', 'michigan indie', 'middle earth', 'midwest americana', 'midwest emo', 'midwest shoegaze', 'military band', 'military cadence', 'military rap', 'minimal dnb', 'minimal tech house', 'minimalism', 'minneapolis sound', 'minnesota hip hop', 'mississippi hip hop', 'mississippi indie', 'modern alternative pop', 'modern alternative rock', 'modern big band', 'modern blues', 'modern blues rock', 'modern cello', 'modern chamber music', 'modern country pop', 'modern country rock', 'modern dream pop', 'modern folk rock', 'modern funk', 'modern hard rock', 'modern hardcore', 'modern indie folk', 'modern indie pop', 'modern j-rock', 'modern jazz piano', 'modern jazz trio', 'modern jungle', 'modern melodic hardcore', 'modern old-time', 'modern power pop', 'modern reggae', 'modern rock', 'modern salsa', 'modern ska punk', 'modern southern rock', 'modern swing', 'modern uplift', 'moldovan pop', 'montana roots', 'monterrey indie', 'montreal indie', 'moog', 'moombahton', 'motown', 'movie tunes', 'multidisciplinary', 'musica canaria', 'musica chihuahuense', 'musica instrumental cristiana', 'musica mexicana', 'musica nicaraguense', 'musica per bambini', 'musica tradicional cubana', 'musical advocacy', 'musique militaire', 'musique nigerienne', 'musique peule', 'naija worship', 'nantes indie', 'nashville americana', 'nashville hip hop', 'nashville indie', 'nashville singer-songwriter', 'nashville sound', 'native american contemporary', 'native american hip hop', 'native american traditional', 'neo classical metal', 'neo mellow', 'neo r&b', 'neo soul', 'neo-classical', 'neo-psychedelic', 'neo-singer-songwriter', 'neo-synthpop', 'neo-traditional bluegrass', 'neo-traditional country', 'neoclassical darkwave', 'neoclassicism', 'neon pop punk', 'neoperreo', 'nerdcore', 'neurofunk', 'new age', 'new age piano', 'new americana', 'new brunswick indie', 'new comedy', 'new england americana', 'new england emo', 'new french touch', 'new jack swing', 'new jersey hardcore', 'new jersey indie', 'new jersey rap', 'new jersey underground rap', 'new orleans blues', 'new orleans funk', 'new orleans jazz', 'new orleans rap', 'new orleans soul', 'new rave', 'new romantic', 'new wave', 'new wave of glam metal', 'new wave pop', 'new weird america', 'new york drill', 'new york shoegaze', 'newcastle nsw indie', 'nigerian hip hop', 'nigerian pop', 'nightcore', 'nintendocore', 'noise pop', 'noise rock', 'nordic ambient', 'nordic classical piano', 'nordic contemporary classical', 'nordic folk metal', 'nordic house', 'nordic orchestra', 'nordic post-rock', 'nordic soundtrack', 'normal indie', 'norsk lovsang', 'norteno', 'north carolina emo', 'north carolina hip hop', 'north carolina indie', 'north carolina metal', 'north carolina roots', 'north dakota indie', 'north east england indie', 'northern irish indie', 'northern soul', 'norwegian black metal', 'norwegian classical', 'norwegian hip hop', 'norwegian house', 'norwegian indie', 'norwegian jazz', 'norwegian metal', 'norwegian pop', 'norwegian punk rock', 'norwegian rock', 'norwegian space disco', 'nottingham hip hop', 'nottingham indie', 'novelty', 'nu age', 'nu disco', 'nu gaze', 'nu jazz', 'nu metal', 'nu-metalcore', 'nwobhm', 'nyc indie rock', 'nyc pop', 'nyc rap', 'nyhc', 'nz christian', 'nz pop', 'oakland hip hop', 'oakland indie', 'ohio hip hop', 'okinawan folk', 'okinawan pop', 'oklahoma country', 'oktoberfest', 'old school atlanta hip hop', 'old school dancehall', 'old school hip hop', 'old school thrash', 'old west', 'old-time', 'olympia wa indie', 'ontario indie', 'opera', 'opera chorus', 'operatic pop', 'operetta', 'opm', 'orchestra', 'orchestral performance', 'orchestral soundtrack', 'orgcore', 'oriental metal', 'orlando indie', 'oshare kei', 'otacore', 'oth indie', 'ottawa indie', 'ottawa rap', 'outlaw country', 'outsider', 'oxford choir', 'p funk', 'pagode baiano', 'paisley underground', 'pakistani indie', 'palm desert scene', 'panamanian pop', 'panpipe', 'parody', 'pastoral', 'permanent wave', 'perreo', 'pet calming', 'philly drill', 'philly rap', 'philly soul', 'phoenix indie', 'phonk', 'pianissimo', 'piano blues', 'piano cover', 'piano rock', 'piano worship', 'pinoy hip hop', 'pirate', 'pittsburgh indie rock', 'pittsburgh rap', 'pixel', 'pixie', 'plugg', 'pluggnb', 'poetry', 'polca paraguaya', 'polish classical', 'polish classical piano', 'polish electronica', 'polish folk metal', 'polish metal', 'polish pop', 'polish viral pop', 'political hip hop', 'polyphony', 'pop', 'pop ambient', 'pop argentino', 'pop dance', 'pop edm', 'pop emo', 'pop flamenco', 'pop folk', 'pop house', 'pop nacional', 'pop peruano', 'pop punk', 'pop quebecois', 'pop r&b', 'pop rap', 'pop reggaeton', 'pop rock', 'pop soul', 'pop venezolano', 'pop violin', 'pop worship', 'popping', 'pops orchestra', 'popwave', 'portland hip hop', 'portland indie', 'portuguese rock', 'post-disco', 'post-grunge', 'post-hardcore', 'post-minimalism', 'post-post-hardcore', 'post-punk', 'post-rock', 'post-romantic era', 'post-screamo', 'post-teen pop', 'pov: indie', 'power metal', 'power pop', 'power-pop punk', 'praise', 'previa', 'progressive alternative', 'progressive bluegrass', 'progressive electro house', 'progressive groove metal', 'progressive house', 'progressive metal', 'progressive metalcore', 'progressive post-hardcore', 'progressive rock', 'progressive trance', 'proto-hyperpop', 'proto-metal', 'protopunk', 'psalms', 'psychedelic hip hop', 'psychedelic pop', 'psychedelic rock', 'psychedelic soul', 'psychedelic trance', 'puerto rican pop', 'puirt-a-beul', 'punk', 'punk blues', 'punk cover', 'purple sound', \"quartetto d'archi\", 'quebec indie', 'quebec punk', 'queens hip hop', 'queer country', 'quiet storm', 'r&b', 'r&b argentino', 'r&b en espanol', 'r&drill', 'raboday', 'radio symphony', 'rage rap', 'ramonescore', 'ranchera', 'rap', 'rap boricua', 'rap canario', 'rap catala', 'rap conscient', 'rap cristiano', 'rap dominicano', 'rap kreyol', 'rap latina', 'rap metal', 'rap metalcore', 'rap montrealais', 'rap rock', 'reading', 'reading indie', 'rebel blues', 'recorder', 'red dirt', 'redneck', 'reggae', 'reggae fusion', 'reggae rock', 'reggaeton', 'reggaeton chileno', 'reggaeton colombiano', 'reggaeton cristiano', 'reggaeton flow', 'reggaeton mexicano', 'regional mexicano femenil', 'relaxative', 'remix product', 'renaissance', 'reparto', 'retro soul', 'rhode island indie', 'rhode island rap', 'rhythm and blues', 'riddim dubstep', 'riot grrrl', 'rochester mn indie', 'rochester ny indie', 'rock', 'rock alternativo espanol', 'rock cristiano', 'rock drums', 'rock en espanol', 'rock independant francais', 'rock keyboard', 'rock-and-roll', 'rockabilly', 'romanian pop', 'roots reggae', 'roots rock', 'roots worship', 'rosary', 'russian choir', 'russian classical piano', 'russian edm', 'russian modern classical', 'russian orchestra', 'russian romanticism', 'russian trance', 'rva drill', 'sacramento hip hop', 'sacramento indie', 'sacred steel', 'sad lo-fi', 'sad rap', 'sad sierreno', 'salsa', 'salsa choke', 'salsa colombiana', 'salsa cubana', 'salsa international', 'salsa peruana', 'salsa puertorriquena', 'salsa urbana', 'salsa venezolana', 'salzburg indie', 'samba-jazz', 'sami', 'samurai trap', 'san antonio rap', 'san diego indie', 'san marcos tx indie', 'saskatchewan indie', 'saxophone house', 'scam rap', 'scandipop', 'scenecore', 'school choir', 'school ensemble', 'scorecore', 'scottish electronic', 'scottish hip hop', 'scottish indie', 'scottish rock', 'screamo', 'sda a cappella', 'seattle hip hop', 'seattle indie', 'second line', 'seiyu', 'sertanejo universitario', 'shanty', 'sheffield indie', 'shib', 'shibuya-kei', 'shimmer pop', 'shimmer psych', 'shiver pop', 'shoegaze', 'shojo', 'shonen', 'show tunes', 'shred', 'sierreno', 'sigilkore', 'sillycore', 'singaporean pop', 'singer-songwriter', 'singer-songwriter pop', 'ska', 'ska mexicano', 'ska punk', 'skate punk', 'sky room', 'slack-key guitar', 'slacker rock', 'slamming deathcore', 'slap house', 'slavic folk metal', 'slavic metal', 'slayer', 'slc indie', 'sleaze rock', 'sleep', 'slow game', 'slowcore', 'sludge metal', 'small room', 'smooth jazz', 'smooth saxophone', 'smooth soul', 'socal indie', 'socal pop punk', 'social media pop', 'soft rock', 'solo wave', 'sophisti-pop', 'soul', 'soul blues', 'soul flow', 'soul jazz', 'souldies', 'soulful house', 'sound', 'sound art', 'sound effects', 'soundtrack', 'south african gospel', 'south african jazz', 'south african pop', 'south african pop dance', 'south african rock', 'south asian metal', 'south carolina hip hop', 'south carolina indie', 'south carolina metal', 'south dakota indie', 'southampton indie', 'southern americana', 'southern gospel', 'southern hip hop', 'southern metal', 'southern rock', 'southern soul', 'sovietwave', 'spa', 'space age pop', 'space ambient', 'spacegrunge', 'spanish classical', 'spanish classical piano', 'spanish hip hop', 'spanish indie pop', 'spanish pop', 'spanish renaissance', 'spanish rock', 'spectra', 'sped up', 'speed metal', 'speed up brasileiro', 'speedrun', 'spirituals', 'springfield mo indie', 'st louis rap', 'steampunk', 'steel guitar', 'stl indie', 'stomp and flutter', 'stomp and holler', 'stomp pop', 'stoner metal', 'stoner rock', 'straight edge', 'street band', 'streichquartett', 'stride', 'string orchestra', 'string quartet', 'strut', 'stutter house', 'substep', 'sudanese hip hop', 'sudanese pop', 'sunshine pop', 'supergroup', 'surf punk', 'swamp blues', 'swamp pop', 'swamp rock', 'swancore', 'swedish alternative rock', 'swedish contemporary classical', 'swedish death metal', 'swedish electropop', 'swedish experimental', 'swedish idol pop', 'swedish indie folk', 'swedish indie pop', 'swedish melodeath', 'swedish metal', 'swedish metalcore', 'swedish pop', 'swedish power metal', 'swedish singer-songwriter', 'swedish soul', 'swedish synthpop', 'swedish tropical house', 'swing', 'swing revival', 'swiss indie', 'symfonicky orchestr', 'symphonic black metal', 'symphonic deathcore', 'symphonic metal', 'symphonic rock', 'synth funk', 'synth punk', 'synthesizer', 'synthpop', 'syro-aramaic chant', 't-pop', 'tagalog worship', 'taiwan hip hop', 'taiwan indie', 'taiwan pop', 'taiwan rock', 'talent show', 'talentkonkurrence', 'talentschau', 'tampa indie', 'tech house', 'technical death metal', 'teen pop', 'tejano', 'tempe indie', 'tennessee hip hop', 'texas blues', 'texas country', 'texas latin rap', 'texas metal', 'texas pop punk', 'texas punk', 'texasgaze', 'thai hip hop', 'thai trap', 'theme', 'thrash metal', 'tibetan hip hop', 'tibetan pop', 'timba', 'tin pan alley', 'tipico', 'torch song', 'toronto indie', 'toronto rap', 'touhou', 'traditional blues', 'traditional country', 'traditional folk', 'trance', 'trancecore', 'transpop', 'trap', 'trap argentino', 'trap boricua', 'trap catala', 'trap chileno', 'trap colombiano', 'trap cristiano', 'trap dominicano', 'trap latino', 'trap queen', 'trap soul', 'trap triste', 'trap venezolano', 'traprun', 'trip hop', 'trival', 'trop rock', 'tropical', 'tropical house', 'tuareg guitar', 'tulsa indie', 'turkish deep house', 'turkish edm', 'turntablism', 'twee pop', 'uk alternative hip hop', 'uk alternative pop', 'uk americana', 'uk christian rap', 'uk contemporary r&b', 'uk dance', 'uk dancehall', 'uk dnb', 'uk doom metal', 'uk drill', 'uk experimental electronic', 'uk funky', 'uk garage', 'uk hip hop', 'uk house', 'uk metalcore', 'uk pop', 'uk pop punk', 'uk post-punk', 'uk reggae', 'uk tech house', 'uk worship', 'ukg revival', 'ukrainian classical', 'ukrainian classical piano', 'ukrainian pop', 'ukulele', 'ukulele cover', 'underground hip hop', 'underground visual kei', 'university choir', 'uplifting trance', 'upstate ny rap', 'urban contemporary', 'urbano chileno', 'urbano espanol', 'urbano latino', 'urbano mexicano', 'utah indie', 'vallenato', 'vancouver indie', 'vancouver metal', 'vancouver punk', 'vapor pop', 'vapor soul', 'vapor twitch', 'vbs', 'vegas indie', 'venezuelan hip hop', 'venezuelan rock', 'veracruz indie', 'vgm remix', 'victoria bc indie', 'victorian britain', 'video game music', 'viking metal', 'vintage gospel', 'vintage hawaiian', 'vintage italian soundtrack', 'vintage jazz', 'viola', 'violin', 'viral pop', 'viral rap', 'viral trap', 'virginia hip hop', 'virginia indie', 'visual kei', 'vocal ensemble', 'vocal harmony group', 'vocal house', 'vocal jazz', 'vocal trance', 'vocaloid', 'vocaloid metal', 'vocaloid rock', 'volksmusik', 'volkstumliche musik', 'waiata mo tamariki', 'warm drone', 'washington indie', 'water', 'weirdcore', 'welsh indie', 'welsh metal', 'welsh rock', 'west coast rap', 'west end', 'west virginia indie', 'westcoast flow', 'western americana', 'western swing', 'white noise', 'wind ensemble', 'wind symphony', 'windsor on indie', \"women's music\", 'wonky', 'worcester ma indie', 'world', 'world worship', 'worship', 'wrestling', 'writing', 'wyoming indie', 'wyoming roots', 'yacht rock', 'yodeling', 'yogyakarta indie', 'york indie', 'zambian hip hop', 'zen', 'zillertal', 'zolo', 'zoomergaze', 'zurich indie', 'zydeco']\n",
      "Number of rows in 'genre_dummies': 4\n",
      "DataFrame 'user_keys' columns: ['username', 'key_-1', 'key_0', 'key_1', 'key_2', 'key_3', 'key_4', 'key_5', 'key_6', 'key_7', 'key_8', 'key_9', 'key_10', 'key_11']\n",
      "Number of rows in 'user_keys': 4\n",
      "NaN in 'username' of user_numerical_agg: 0\n",
      "Duplicates in 'username' of user_numerical_agg: 0\n",
      "NaN in 'username' of genre_dummies: 0\n",
      "Duplicates in 'username' of genre_dummies: 0\n",
      "NaN in 'username' of user_keys: 0\n",
      "Duplicates in 'username' of user_keys: 0\n",
      "Columns in user_personality: ['PersonID', 'username', 'Openness', 'Conscientiousness', 'Extraversion', 'Agreeableness', 'Neuroticism']\n",
      "'username' in user_personality columns: True\n",
      "Columns in user_personality after renaming: ['PersonID', 'username', 'Openness', 'Conscientiousness', 'Extraversion', 'Agreeableness', 'Neuroticism']\n"
     ]
    }
   ],
   "source": [
    "import pandas as pd\n",
    "from sklearn.preprocessing import MultiLabelBinarizer\n",
    "\n",
    "# Assume 'df' is your DataFrame containing all user data\n",
    "\n",
    "# 1. Handle missing values in 'artist_genres'\n",
    "df['artist_genres'] = df['artist_genres'].fillna('')\n",
    "\n",
    "# 2. Split genres into lists\n",
    "df['artist_genres_list'] = df['artist_genres'].apply(\n",
    "    lambda x: x.split(', ') if isinstance(x, str) and x else []\n",
    ")\n",
    "\n",
    "# 3. Verify that all entries in 'artist_genres_list' are lists\n",
    "assert df['artist_genres_list'].apply(lambda x: isinstance(x, list)).all(), \"Not all entries are lists.\"\n",
    "\n",
    "# 4. Aggregate genres per user\n",
    "user_genres = df.groupby('username')['artist_genres_list'].apply(\n",
    "    lambda lists: [genre for sublist in lists for genre in sublist]\n",
    ")\n",
    "\n",
    "# 5. Apply MultiLabelBinarizer\n",
    "mlb = MultiLabelBinarizer()\n",
    "genre_dummies = pd.DataFrame(\n",
    "    mlb.fit_transform(user_genres),\n",
    "    columns=mlb.classes_,\n",
    "    index=user_genres.index\n",
    ").reset_index()\n",
    "\n",
    "print(\"'username' in genre_dummies columns:\", 'username' in genre_dummies.columns)\n",
    "print(\"Columns in genre_dummies:\", genre_dummies.columns.tolist())\n",
    "\n",
    "# 6. Handle 'key' variable\n",
    "\n",
    "# a. Fill missing 'key' values and convert to integers\n",
    "df['key'] = df['key'].fillna(-1).astype(int)\n",
    "\n",
    "# b. Create dummy variables\n",
    "key_dummies = pd.get_dummies(df['key'], prefix='key')\n",
    "\n",
    "# c. Concatenate 'username' and key_dummies\n",
    "df_keys = pd.concat([df[['username']], key_dummies], axis=1)\n",
    "\n",
    "# d. Aggregate 'key' dummies per user\n",
    "user_keys = df_keys.groupby('username').mean().reset_index()\n",
    "\n",
    "print(\"'username' in user_keys columns:\", 'username' in user_keys.columns)\n",
    "\n",
    "# 7. Combine all user-level features\n",
    "\n",
    "# a. Aggregate other numerical features per user\n",
    "agg_functions = {\n",
    "    'ms_played': 'sum',\n",
    "    'skipped': 'mean',\n",
    "    'shuffle': 'mean',\n",
    "    # Add other features as needed\n",
    "}\n",
    "\n",
    "user_numerical_agg = df.groupby('username').agg(agg_functions).reset_index()\n",
    "\n",
    "# Prepare DataFrames\n",
    "def prepare_dataframe(df, name):\n",
    "    if 'username' not in df.columns:\n",
    "        df.reset_index(inplace=True)\n",
    "    df['username'] = df['username'].astype(str)\n",
    "    df.columns = df.columns.str.strip()\n",
    "    print(f\"DataFrame '{name}' columns:\", df.columns.tolist())\n",
    "    print(f\"Number of rows in '{name}':\", len(df))\n",
    "    return df\n",
    "\n",
    "user_numerical_agg = prepare_dataframe(user_numerical_agg, 'user_numerical_agg')\n",
    "genre_dummies = prepare_dataframe(genre_dummies, 'genre_dummies')\n",
    "user_keys = prepare_dataframe(user_keys, 'user_keys')\n",
    "\n",
    "# Check for NaN and duplicates\n",
    "for name, df in [('user_numerical_agg', user_numerical_agg), \n",
    "                 ('genre_dummies', genre_dummies), \n",
    "                 ('user_keys', user_keys)]:\n",
    "    print(f\"NaN in 'username' of {name}:\", df['username'].isna().sum())\n",
    "    print(f\"Duplicates in 'username' of {name}:\", df['username'].duplicated().sum())\n",
    "\n",
    "# Merge DataFrames\n",
    "user_data = user_numerical_agg.copy()\n",
    "user_data = pd.merge(user_data, genre_dummies, on='username', how='left')\n",
    "user_data = pd.merge(user_data, user_keys, on='username', how='left')\n",
    "\n",
    "# Fill missing values and infer data types\n",
    "user_data.fillna(0, inplace=True)\n",
    "user_data = user_data.infer_objects()\n",
    "\n",
    "# Merge with personality data\n",
    "user_personality = pd.read_csv('data/results.csv')\n",
    "# Check the columns in user_personality\n",
    "print(\"Columns in user_personality:\", user_personality.columns.tolist())\n",
    "\n",
    "# Rename the column if 'username' is not present\n",
    "if 'username' not in user_personality.columns:\n",
    "    # Assuming the username is stored in the 'name' column\n",
    "    user_personality.rename(columns={'name': 'username'}, inplace=True)\n",
    "    print(\"Renamed 'name' column to 'username'.\")\n",
    "\n",
    "# Verify that 'username' is now in the columns\n",
    "print(\"'username' in user_personality columns:\", 'username' in user_personality.columns)\n",
    "print(\"Columns in user_personality after renaming:\", user_personality.columns.tolist())\n",
    "\n",
    "# Convert 'username' to string\n",
    "user_personality['username'] = user_personality['username'].astype(str)\n",
    "\n",
    "# Merge with user_data\n",
    "user_data = pd.merge(user_data, user_personality, on='username', how='inner')\n"
   ]
  },
  {
   "cell_type": "code",
   "execution_count": 38,
   "metadata": {},
   "outputs": [
    {
     "ename": "KeyError",
     "evalue": "\"Column(s) ['acousticness', 'danceability', 'energy', 'explicit', 'incognito_mode', 'instrumentalness', 'liveness', 'loudness', 'mode', 'ms_played', 'offline', 'shuffle', 'skipped', 'speechiness', 'tempo', 'time_signature', 'track_popularity', 'valence'] do not exist\"",
     "output_type": "error",
     "traceback": [
      "\u001b[1;31m---------------------------------------------------------------------------\u001b[0m",
      "\u001b[1;31mKeyError\u001b[0m                                  Traceback (most recent call last)",
      "Cell \u001b[1;32mIn[38], line 24\u001b[0m\n\u001b[0;32m      2\u001b[0m agg_functions \u001b[38;5;241m=\u001b[39m {\n\u001b[0;32m      3\u001b[0m     \u001b[38;5;124m'\u001b[39m\u001b[38;5;124mms_played\u001b[39m\u001b[38;5;124m'\u001b[39m: \u001b[38;5;124m'\u001b[39m\u001b[38;5;124msum\u001b[39m\u001b[38;5;124m'\u001b[39m,\n\u001b[0;32m      4\u001b[0m     \u001b[38;5;124m'\u001b[39m\u001b[38;5;124mskipped\u001b[39m\u001b[38;5;124m'\u001b[39m: \u001b[38;5;124m'\u001b[39m\u001b[38;5;124mmean\u001b[39m\u001b[38;5;124m'\u001b[39m,\n\u001b[1;32m   (...)\u001b[0m\n\u001b[0;32m     20\u001b[0m     \u001b[38;5;124m'\u001b[39m\u001b[38;5;124mtime_signature\u001b[39m\u001b[38;5;124m'\u001b[39m: [\u001b[38;5;124m'\u001b[39m\u001b[38;5;124mmean\u001b[39m\u001b[38;5;124m'\u001b[39m, \u001b[38;5;124m'\u001b[39m\u001b[38;5;124mstd\u001b[39m\u001b[38;5;124m'\u001b[39m]\n\u001b[0;32m     21\u001b[0m }\n\u001b[0;32m     23\u001b[0m \u001b[38;5;66;03m# Aggregate per user and reset index\u001b[39;00m\n\u001b[1;32m---> 24\u001b[0m user_agg \u001b[38;5;241m=\u001b[39m \u001b[43mdf\u001b[49m\u001b[38;5;241;43m.\u001b[39;49m\u001b[43mgroupby\u001b[49m\u001b[43m(\u001b[49m\u001b[38;5;124;43m'\u001b[39;49m\u001b[38;5;124;43musername\u001b[39;49m\u001b[38;5;124;43m'\u001b[39;49m\u001b[43m)\u001b[49m\u001b[38;5;241;43m.\u001b[39;49m\u001b[43magg\u001b[49m\u001b[43m(\u001b[49m\u001b[43magg_functions\u001b[49m\u001b[43m)\u001b[49m\u001b[38;5;241m.\u001b[39mreset_index()\n\u001b[0;32m     26\u001b[0m \u001b[38;5;66;03m# Ensure 'username' is present in all DataFrames\u001b[39;00m\n\u001b[0;32m     27\u001b[0m \u001b[38;5;28;01massert\u001b[39;00m \u001b[38;5;124m'\u001b[39m\u001b[38;5;124musername\u001b[39m\u001b[38;5;124m'\u001b[39m \u001b[38;5;129;01min\u001b[39;00m user_agg\u001b[38;5;241m.\u001b[39mcolumns, \u001b[38;5;124m\"\u001b[39m\u001b[38;5;124m'\u001b[39m\u001b[38;5;124musername\u001b[39m\u001b[38;5;124m'\u001b[39m\u001b[38;5;124m missing in user_agg\u001b[39m\u001b[38;5;124m\"\u001b[39m\n",
      "File \u001b[1;32mc:\\Users\\C25Julia.Razzino\\AppData\\Local\\Programs\\Python\\Python312\\Lib\\site-packages\\pandas\\core\\groupby\\generic.py:1432\u001b[0m, in \u001b[0;36mDataFrameGroupBy.aggregate\u001b[1;34m(self, func, engine, engine_kwargs, *args, **kwargs)\u001b[0m\n\u001b[0;32m   1429\u001b[0m     kwargs[\u001b[38;5;124m\"\u001b[39m\u001b[38;5;124mengine_kwargs\u001b[39m\u001b[38;5;124m\"\u001b[39m] \u001b[38;5;241m=\u001b[39m engine_kwargs\n\u001b[0;32m   1431\u001b[0m op \u001b[38;5;241m=\u001b[39m GroupByApply(\u001b[38;5;28mself\u001b[39m, func, args\u001b[38;5;241m=\u001b[39margs, kwargs\u001b[38;5;241m=\u001b[39mkwargs)\n\u001b[1;32m-> 1432\u001b[0m result \u001b[38;5;241m=\u001b[39m \u001b[43mop\u001b[49m\u001b[38;5;241;43m.\u001b[39;49m\u001b[43magg\u001b[49m\u001b[43m(\u001b[49m\u001b[43m)\u001b[49m\n\u001b[0;32m   1433\u001b[0m \u001b[38;5;28;01mif\u001b[39;00m \u001b[38;5;129;01mnot\u001b[39;00m is_dict_like(func) \u001b[38;5;129;01mand\u001b[39;00m result \u001b[38;5;129;01mis\u001b[39;00m \u001b[38;5;129;01mnot\u001b[39;00m \u001b[38;5;28;01mNone\u001b[39;00m:\n\u001b[0;32m   1434\u001b[0m     \u001b[38;5;66;03m# GH #52849\u001b[39;00m\n\u001b[0;32m   1435\u001b[0m     \u001b[38;5;28;01mif\u001b[39;00m \u001b[38;5;129;01mnot\u001b[39;00m \u001b[38;5;28mself\u001b[39m\u001b[38;5;241m.\u001b[39mas_index \u001b[38;5;129;01mand\u001b[39;00m is_list_like(func):\n",
      "File \u001b[1;32mc:\\Users\\C25Julia.Razzino\\AppData\\Local\\Programs\\Python\\Python312\\Lib\\site-packages\\pandas\\core\\apply.py:190\u001b[0m, in \u001b[0;36mApply.agg\u001b[1;34m(self)\u001b[0m\n\u001b[0;32m    187\u001b[0m     \u001b[38;5;28;01mreturn\u001b[39;00m \u001b[38;5;28mself\u001b[39m\u001b[38;5;241m.\u001b[39mapply_str()\n\u001b[0;32m    189\u001b[0m \u001b[38;5;28;01mif\u001b[39;00m is_dict_like(func):\n\u001b[1;32m--> 190\u001b[0m     \u001b[38;5;28;01mreturn\u001b[39;00m \u001b[38;5;28;43mself\u001b[39;49m\u001b[38;5;241;43m.\u001b[39;49m\u001b[43magg_dict_like\u001b[49m\u001b[43m(\u001b[49m\u001b[43m)\u001b[49m\n\u001b[0;32m    191\u001b[0m \u001b[38;5;28;01melif\u001b[39;00m is_list_like(func):\n\u001b[0;32m    192\u001b[0m     \u001b[38;5;66;03m# we require a list, but not a 'str'\u001b[39;00m\n\u001b[0;32m    193\u001b[0m     \u001b[38;5;28;01mreturn\u001b[39;00m \u001b[38;5;28mself\u001b[39m\u001b[38;5;241m.\u001b[39magg_list_like()\n",
      "File \u001b[1;32mc:\\Users\\C25Julia.Razzino\\AppData\\Local\\Programs\\Python\\Python312\\Lib\\site-packages\\pandas\\core\\apply.py:423\u001b[0m, in \u001b[0;36mApply.agg_dict_like\u001b[1;34m(self)\u001b[0m\n\u001b[0;32m    415\u001b[0m \u001b[38;5;28;01mdef\u001b[39;00m \u001b[38;5;21magg_dict_like\u001b[39m(\u001b[38;5;28mself\u001b[39m) \u001b[38;5;241m-\u001b[39m\u001b[38;5;241m>\u001b[39m DataFrame \u001b[38;5;241m|\u001b[39m Series:\n\u001b[0;32m    416\u001b[0m \u001b[38;5;250m    \u001b[39m\u001b[38;5;124;03m\"\"\"\u001b[39;00m\n\u001b[0;32m    417\u001b[0m \u001b[38;5;124;03m    Compute aggregation in the case of a dict-like argument.\u001b[39;00m\n\u001b[0;32m    418\u001b[0m \n\u001b[1;32m   (...)\u001b[0m\n\u001b[0;32m    421\u001b[0m \u001b[38;5;124;03m    Result of aggregation.\u001b[39;00m\n\u001b[0;32m    422\u001b[0m \u001b[38;5;124;03m    \"\"\"\u001b[39;00m\n\u001b[1;32m--> 423\u001b[0m     \u001b[38;5;28;01mreturn\u001b[39;00m \u001b[38;5;28;43mself\u001b[39;49m\u001b[38;5;241;43m.\u001b[39;49m\u001b[43magg_or_apply_dict_like\u001b[49m\u001b[43m(\u001b[49m\u001b[43mop_name\u001b[49m\u001b[38;5;241;43m=\u001b[39;49m\u001b[38;5;124;43m\"\u001b[39;49m\u001b[38;5;124;43magg\u001b[39;49m\u001b[38;5;124;43m\"\u001b[39;49m\u001b[43m)\u001b[49m\n",
      "File \u001b[1;32mc:\\Users\\C25Julia.Razzino\\AppData\\Local\\Programs\\Python\\Python312\\Lib\\site-packages\\pandas\\core\\apply.py:1608\u001b[0m, in \u001b[0;36mGroupByApply.agg_or_apply_dict_like\u001b[1;34m(self, op_name)\u001b[0m\n\u001b[0;32m   1603\u001b[0m     kwargs\u001b[38;5;241m.\u001b[39mupdate({\u001b[38;5;124m\"\u001b[39m\u001b[38;5;124mengine\u001b[39m\u001b[38;5;124m\"\u001b[39m: engine, \u001b[38;5;124m\"\u001b[39m\u001b[38;5;124mengine_kwargs\u001b[39m\u001b[38;5;124m\"\u001b[39m: engine_kwargs})\n\u001b[0;32m   1605\u001b[0m \u001b[38;5;28;01mwith\u001b[39;00m com\u001b[38;5;241m.\u001b[39mtemp_setattr(\n\u001b[0;32m   1606\u001b[0m     obj, \u001b[38;5;124m\"\u001b[39m\u001b[38;5;124mas_index\u001b[39m\u001b[38;5;124m\"\u001b[39m, \u001b[38;5;28;01mTrue\u001b[39;00m, condition\u001b[38;5;241m=\u001b[39m\u001b[38;5;28mhasattr\u001b[39m(obj, \u001b[38;5;124m\"\u001b[39m\u001b[38;5;124mas_index\u001b[39m\u001b[38;5;124m\"\u001b[39m)\n\u001b[0;32m   1607\u001b[0m ):\n\u001b[1;32m-> 1608\u001b[0m     result_index, result_data \u001b[38;5;241m=\u001b[39m \u001b[38;5;28;43mself\u001b[39;49m\u001b[38;5;241;43m.\u001b[39;49m\u001b[43mcompute_dict_like\u001b[49m\u001b[43m(\u001b[49m\n\u001b[0;32m   1609\u001b[0m \u001b[43m        \u001b[49m\u001b[43mop_name\u001b[49m\u001b[43m,\u001b[49m\u001b[43m \u001b[49m\u001b[43mselected_obj\u001b[49m\u001b[43m,\u001b[49m\u001b[43m \u001b[49m\u001b[43mselection\u001b[49m\u001b[43m,\u001b[49m\u001b[43m \u001b[49m\u001b[43mkwargs\u001b[49m\n\u001b[0;32m   1610\u001b[0m \u001b[43m    \u001b[49m\u001b[43m)\u001b[49m\n\u001b[0;32m   1611\u001b[0m result \u001b[38;5;241m=\u001b[39m \u001b[38;5;28mself\u001b[39m\u001b[38;5;241m.\u001b[39mwrap_results_dict_like(selected_obj, result_index, result_data)\n\u001b[0;32m   1612\u001b[0m \u001b[38;5;28;01mreturn\u001b[39;00m result\n",
      "File \u001b[1;32mc:\\Users\\C25Julia.Razzino\\AppData\\Local\\Programs\\Python\\Python312\\Lib\\site-packages\\pandas\\core\\apply.py:462\u001b[0m, in \u001b[0;36mApply.compute_dict_like\u001b[1;34m(self, op_name, selected_obj, selection, kwargs)\u001b[0m\n\u001b[0;32m    460\u001b[0m is_groupby \u001b[38;5;241m=\u001b[39m \u001b[38;5;28misinstance\u001b[39m(obj, (DataFrameGroupBy, SeriesGroupBy))\n\u001b[0;32m    461\u001b[0m func \u001b[38;5;241m=\u001b[39m cast(AggFuncTypeDict, \u001b[38;5;28mself\u001b[39m\u001b[38;5;241m.\u001b[39mfunc)\n\u001b[1;32m--> 462\u001b[0m func \u001b[38;5;241m=\u001b[39m \u001b[38;5;28;43mself\u001b[39;49m\u001b[38;5;241;43m.\u001b[39;49m\u001b[43mnormalize_dictlike_arg\u001b[49m\u001b[43m(\u001b[49m\u001b[43mop_name\u001b[49m\u001b[43m,\u001b[49m\u001b[43m \u001b[49m\u001b[43mselected_obj\u001b[49m\u001b[43m,\u001b[49m\u001b[43m \u001b[49m\u001b[43mfunc\u001b[49m\u001b[43m)\u001b[49m\n\u001b[0;32m    464\u001b[0m is_non_unique_col \u001b[38;5;241m=\u001b[39m (\n\u001b[0;32m    465\u001b[0m     selected_obj\u001b[38;5;241m.\u001b[39mndim \u001b[38;5;241m==\u001b[39m \u001b[38;5;241m2\u001b[39m\n\u001b[0;32m    466\u001b[0m     \u001b[38;5;129;01mand\u001b[39;00m selected_obj\u001b[38;5;241m.\u001b[39mcolumns\u001b[38;5;241m.\u001b[39mnunique() \u001b[38;5;241m<\u001b[39m \u001b[38;5;28mlen\u001b[39m(selected_obj\u001b[38;5;241m.\u001b[39mcolumns)\n\u001b[0;32m    467\u001b[0m )\n\u001b[0;32m    469\u001b[0m \u001b[38;5;28;01mif\u001b[39;00m selected_obj\u001b[38;5;241m.\u001b[39mndim \u001b[38;5;241m==\u001b[39m \u001b[38;5;241m1\u001b[39m:\n\u001b[0;32m    470\u001b[0m     \u001b[38;5;66;03m# key only used for output\u001b[39;00m\n",
      "File \u001b[1;32mc:\\Users\\C25Julia.Razzino\\AppData\\Local\\Programs\\Python\\Python312\\Lib\\site-packages\\pandas\\core\\apply.py:663\u001b[0m, in \u001b[0;36mApply.normalize_dictlike_arg\u001b[1;34m(self, how, obj, func)\u001b[0m\n\u001b[0;32m    661\u001b[0m     cols \u001b[38;5;241m=\u001b[39m Index(\u001b[38;5;28mlist\u001b[39m(func\u001b[38;5;241m.\u001b[39mkeys()))\u001b[38;5;241m.\u001b[39mdifference(obj\u001b[38;5;241m.\u001b[39mcolumns, sort\u001b[38;5;241m=\u001b[39m\u001b[38;5;28;01mTrue\u001b[39;00m)\n\u001b[0;32m    662\u001b[0m     \u001b[38;5;28;01mif\u001b[39;00m \u001b[38;5;28mlen\u001b[39m(cols) \u001b[38;5;241m>\u001b[39m \u001b[38;5;241m0\u001b[39m:\n\u001b[1;32m--> 663\u001b[0m         \u001b[38;5;28;01mraise\u001b[39;00m \u001b[38;5;167;01mKeyError\u001b[39;00m(\u001b[38;5;124mf\u001b[39m\u001b[38;5;124m\"\u001b[39m\u001b[38;5;124mColumn(s) \u001b[39m\u001b[38;5;132;01m{\u001b[39;00m\u001b[38;5;28mlist\u001b[39m(cols)\u001b[38;5;132;01m}\u001b[39;00m\u001b[38;5;124m do not exist\u001b[39m\u001b[38;5;124m\"\u001b[39m)\n\u001b[0;32m    665\u001b[0m aggregator_types \u001b[38;5;241m=\u001b[39m (\u001b[38;5;28mlist\u001b[39m, \u001b[38;5;28mtuple\u001b[39m, \u001b[38;5;28mdict\u001b[39m)\n\u001b[0;32m    667\u001b[0m \u001b[38;5;66;03m# if we have a dict of any non-scalars\u001b[39;00m\n\u001b[0;32m    668\u001b[0m \u001b[38;5;66;03m# eg. {'A' : ['mean']}, normalize all to\u001b[39;00m\n\u001b[0;32m    669\u001b[0m \u001b[38;5;66;03m# be list-likes\u001b[39;00m\n\u001b[0;32m    670\u001b[0m \u001b[38;5;66;03m# Cannot use func.values() because arg may be a Series\u001b[39;00m\n",
      "\u001b[1;31mKeyError\u001b[0m: \"Column(s) ['acousticness', 'danceability', 'energy', 'explicit', 'incognito_mode', 'instrumentalness', 'liveness', 'loudness', 'mode', 'ms_played', 'offline', 'shuffle', 'skipped', 'speechiness', 'tempo', 'time_signature', 'track_popularity', 'valence'] do not exist\""
     ]
    }
   ],
   "source": [
    "# Define the aggregation functions for each feature\n",
    "agg_functions = {\n",
    "    'ms_played': 'sum',\n",
    "    'skipped': 'mean',\n",
    "    'shuffle': 'mean',\n",
    "    'offline': 'mean',\n",
    "    'incognito_mode': 'mean',\n",
    "    'track_popularity': ['mean', 'std'],\n",
    "    'explicit': 'mean',\n",
    "    'danceability': ['mean', 'std'],\n",
    "    'energy': ['mean', 'std'],\n",
    "    'loudness': ['mean', 'std'],\n",
    "    'mode': 'mean',\n",
    "    'speechiness': ['mean', 'std'],\n",
    "    'acousticness': ['mean', 'std'],\n",
    "    'instrumentalness': ['mean', 'std'],\n",
    "    'liveness': ['mean', 'std'],\n",
    "    'valence': ['mean', 'std'],\n",
    "    'tempo': ['mean', 'std'],\n",
    "    'time_signature': ['mean', 'std']\n",
    "}\n",
    "\n",
    "# Aggregate per user and reset index\n",
    "user_agg = df.groupby('username').agg(agg_functions).reset_index()\n",
    "\n",
    "# Ensure 'username' is present in all DataFrames\n",
    "assert 'username' in user_agg.columns, \"'username' missing in user_agg\"\n",
    "assert 'username' in genre_dummies.columns, \"'username' missing in genre_dummies\"\n",
    "assert 'username' in user_keys.columns, \"'username' missing in user_keys\"\n",
    "\n",
    "# Merge DataFrames on 'username'\n",
    "user_data = pd.merge(user_agg, genre_dummies, on='username', how='left')\n",
    "user_data = pd.merge(user_data, user_keys, on='username', how='left')\n"
   ]
  }
 ],
 "metadata": {
  "kernelspec": {
   "display_name": "Python 3",
   "language": "python",
   "name": "python3"
  },
  "language_info": {
   "codemirror_mode": {
    "name": "ipython",
    "version": 3
   },
   "file_extension": ".py",
   "mimetype": "text/x-python",
   "name": "python",
   "nbconvert_exporter": "python",
   "pygments_lexer": "ipython3",
   "version": "3.12.5"
  }
 },
 "nbformat": 4,
 "nbformat_minor": 2
}
